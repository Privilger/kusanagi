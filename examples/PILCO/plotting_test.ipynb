{
 "cells": [
  {
   "cell_type": "code",
   "execution_count": 1,
   "metadata": {},
   "outputs": [],
   "source": [
    "%matplotlib tk\n",
    "import os\n",
    "import numpy as np\n",
    "from kusanagi.ghost import control\n",
    "from kusanagi.ghost import regression\n",
    "from kusanagi.shell import cartpole\n",
    "from kusanagi.ghost.algorithms import pilco_, mc_pilco_\n",
    "from kusanagi.ghost.optimizers import ScipyOptimizer, SGDOptimizer\n",
    "from kusanagi.base import apply_controller, train_dynamics, ExperienceDataset\n",
    "from kusanagi import utils\n",
    "from functools import partial\n",
    "#np.random.seed(1337)\n",
    "np.set_printoptions(linewidth=500)\n",
    "\n",
    "from matplotlib import pyplot as plt\n",
    "import theano"
   ]
  },
  {
   "cell_type": "code",
   "execution_count": 2,
   "metadata": {},
   "outputs": [
    {
     "name": "stdout",
     "output_type": "stream",
     "text": [
      "[2017-07-13 09:51:48.787398] RBFPolicy_sat > Initializing parameters\n",
      "[2017-07-13 09:51:48.801249] RBFPolicy_sat > Building full GP loss\n",
      "[2017-07-13 09:51:48.847385] RBFPolicy_sat > Initialising expression graph for prediction\n",
      "[2017-07-13 09:51:48.863013] RBFPolicy_sat > Compiling mean and variance of prediction\n",
      "[2017-07-13 09:51:49.857707] RBFPolicy_sat > Done compiling\n",
      "[2017-07-13 09:51:49.873333] BNN > Building network\n",
      "InputLayer {'shape': (None, 6), 'name': 'BNN_input'}\n",
      "DenseLayer {'num_units': 200, 'nonlinearity': <function sigmoid at 0x7f01d69b1ae8>, 'name': 'BNN_fc0'}\n",
      "DropoutLayer {'p': 0.05, 'rescale': False, 'name': 'BNN_drop0', 'dropout_samples': array(25, dtype=int32)}\n",
      "DenseLayer {'num_units': 200, 'nonlinearity': <function sigmoid at 0x7f01d69b1ae8>, 'name': 'BNN_fc1'}\n",
      "DropoutLayer {'p': 0.05, 'rescale': False, 'name': 'BNN_drop1', 'dropout_samples': array(25, dtype=int32)}\n",
      "DenseLayer {'num_units': 4, 'nonlinearity': <function linear at 0x7f01d6950510>, 'name': 'BNN_output'}\n",
      "[2017-07-13 09:51:49.883384] Experience > Initialising new experience dataset\n"
     ]
    }
   ],
   "source": [
    "# setup output directory\n",
    "utils.set_output_dir(os.path.join(utils.get_output_dir(), 'cartpole'))\n",
    "\n",
    "params = cartpole.default_params()\n",
    "n_rnd = 1                                                # number of random initial trials\n",
    "n_opt = 100                                              #learning iterations\n",
    "H = 26#params['max_steps']\n",
    "gamma = params['discount']\n",
    "angle_dims = params['angle_dims']\n",
    "\n",
    "# initial state distribution\n",
    "p0 = params['state0_dist']\n",
    "D = p0.mean.size\n",
    "\n",
    "# init environment\n",
    "env = cartpole.Cartpole(**params['plant'])\n",
    "\n",
    "# init policy\n",
    "#pol = control.NNPolicy(p0.mean, **params['policy'])\n",
    "#pol.build_network(network_spec=pol.get_default_network_spec(hidden_dims=[20, 20],p=0.05))\n",
    "pol = control.RBFPolicy(**params['policy'])\n",
    "randpol = control.RandPolicy(maxU=pol.maxU)\n",
    "\n",
    "# init dynmodel\n",
    "#dyn = regression.SSGP_UI(**params['dynamics_model'])\n",
    "dyn = regression.BNN(**params['dynamics_model'])\n",
    "dyn.build_network(network_spec=dyn.get_default_network_spec(hidden_dims=[200, 200]))\n",
    "\n",
    "# init cost model\n",
    "cost = partial(cartpole.cartpole_loss, **params['cost'])\n",
    "\n",
    "# create experience dataset\n",
    "exp = ExperienceDataset()\n",
    "\n",
    "# init policy optimizer\n",
    "params['optimizer']['min_method'] = 'adam'\n",
    "params['optimizer']['max_evals'] = 1000\n",
    "polopt = SGDOptimizer(**params['optimizer'])\n",
    "\n",
    "# callback executed after every call to env.step\n",
    "def step_cb(state, action, cost, info):\n",
    "    exp.add_sample(state, action, cost, info)\n",
    "    env.render()\n",
    "\n",
    "# function to execute before applying policy\n",
    "def gTrig(state):\n",
    "    return utils.gTrig_np(state, angle_dims).flatten()"
   ]
  },
  {
   "cell_type": "code",
   "execution_count": 3,
   "metadata": {},
   "outputs": [
    {
     "name": "stdout",
     "output_type": "stream",
     "text": [
      "[2017-07-13 09:51:49.959822] apply_controller > Starting run\n",
      "[2017-07-13 09:51:49.968197] apply_controller > Running for 2.600000 seconds\n",
      "[2017-07-13 09:51:50.162054] apply_controller > Done. Stopping robot. Value of run [25.843404]\n",
      "[2017-07-13 09:51:50.162859] Cartpole > Stopping robot\n"
     ]
    }
   ],
   "source": [
    "# during first n_rnd trials, apply randomized controls\n",
    "for i in range(n_rnd):\n",
    "    exp.new_episode()\n",
    "    apply_controller(env, randpol, H,\n",
    "                     preprocess=gTrig,\n",
    "                     callback=step_cb)"
   ]
  },
  {
   "cell_type": "code",
   "execution_count": 84,
   "metadata": {},
   "outputs": [
    {
     "name": "stdout",
     "output_type": "stream",
     "text": [
      "[2017-07-13 12:58:22.466420] apply_controller > Starting run\n",
      "[2017-07-13 12:58:22.467846] apply_controller > Running for 4.000000 seconds\n",
      "[2017-07-13 12:58:22.765400] apply_controller > Done. Stopping robot. Value of run [11.003082]\n",
      "[2017-07-13 12:58:22.767646] Cartpole > Stopping robot\n",
      "\n"
     ]
    }
   ],
   "source": [
    "exp.new_episode()\n",
    "apply_controller(env, pol, H,\n",
    "                 preprocess=gTrig,\n",
    "                 callback=step_cb)\n",
    "print('')"
   ]
  },
  {
   "cell_type": "code",
   "execution_count": 85,
   "metadata": {},
   "outputs": [
    {
     "name": "stdout",
     "output_type": "stream",
     "text": [
      "[2017-07-13 12:58:29.642724] train_dynamics > Training dynamics model\n",
      "[0, 1, 2, 3, 4, 5, 6, 7, 8, 9, 10, 11, 12, 13]\n",
      "[2017-07-13 12:58:29.646944] train_dynamics > Dataset size:: Inputs: [ (343, 6) ], Targets: [ (343, 4) ]  \n",
      "[2017-07-13 12:58:29.647608] BNN_opt > Optimizing parameters via mini batches\n",
      "[2017-07-13 12:58:29.655615] BNN_opt > Initial loss [-3.172745697860457]\n",
      "\u001b[2K[2017-07-13 12:58:42.426185] BNN_opt > Current value: -3.362612E+00, Total evaluations: 1000, Avg. time per updt: 0.019044\n",
      "[2017-07-13 12:58:42.435197] train_dynamics > Done training dynamics model\n"
     ]
    },
    {
     "data": {
      "text/plain": [
       "<kusanagi.ghost.regression.NN.BNN at 0x7f01b9b28390>"
      ]
     },
     "execution_count": 85,
     "metadata": {},
     "output_type": "execute_result"
    }
   ],
   "source": [
    "# train dynamics model\n",
    "train_dynamics(dyn, exp, angle_dims=angle_dims)"
   ]
  },
  {
   "cell_type": "code",
   "execution_count": 88,
   "metadata": {},
   "outputs": [
    {
     "name": "stdout",
     "output_type": "stream",
     "text": [
      "[2017-07-13 13:02:59.233807] mc_pilco.rollout > Building computation graph for state particles propagation\n"
     ]
    }
   ],
   "source": [
    "rollout_fn = mc_pilco_.build_rollout(pol, dyn, cost, D, angle_dims, n_samples=100, resample_particles=False)\n",
    "plt.close('all')\n"
   ]
  },
  {
   "cell_type": "code",
   "execution_count": 90,
   "metadata": {},
   "outputs": [],
   "source": [
    "state_fig = None\n",
    "dyn.update()\n",
    "#pol.update()\n",
    "H=40\n",
    "loss, costs, trajectories = rollout_fn(p0.mean, p0.cov, H, 1)\n",
    "n_samples, T, dims = trajectories.shape\n",
    "\n",
    "if not state_fig:\n",
    "    state_fig, state_axarr = plt.subplots(dims, sharex=True)\n",
    "exp_states = np.array(exp.states)\n",
    "for d in range(dims):\n",
    "    st = trajectories[:,:,d]\n",
    "    #plot predictive distribution\n",
    "    for i in range(n_samples):\n",
    "        state_axarr[d].plot(np.arange(T-1), st[i,:-1], color='steelblue', alpha=0.3)\n",
    "    #for i in range(len(exp.states)):\n",
    "    #    state_axarr[d].plot(np.arange(T-1), exp_states[i,1:,d], color='orange', alpha=0.3)\n",
    "    #plot experience\n",
    "    state_axarr[d].plot(np.arange(T-1), np.array(exp.states[-1])[1:H,d], color='red')\n",
    "    state_axarr[d].plot(np.arange(T-1), st[:,:-1].mean(0), color='purple')\n",
    "plt.show()"
   ]
  },
  {
   "cell_type": "code",
   "execution_count": 92,
   "metadata": {},
   "outputs": [
    {
     "name": "stdout",
     "output_type": "stream",
     "text": [
      "[2017-07-13 13:46:02.003239] mc_pilco.rollout > Building computation graph for state particles propagation\n",
      "[2017-07-13 13:46:02.992456] SGDOptimizer > Building computation graph for gradients\n",
      "[2017-07-13 13:46:04.942065] SGDOptimizer > Computing parameter update rules\n",
      "[2017-07-13 13:46:04.982579] SGDOptimizer > Compiling function for loss\n",
      "[2017-07-13 13:46:11.199063] SGDOptimizer > Compiling parameter updates\n"
     ]
    }
   ],
   "source": [
    "# init policy optimizer\n",
    "learning_rate = theano.tensor.scalar('lr')\n",
    "loss, inps, updts = mc_pilco_.get_loss(pol, dyn, cost, D, angle_dims, n_samples=50, resample_particles=True)\n",
    "inps.append(learning_rate)\n",
    "polopt.set_objective(loss, pol.get_params(symbolic=True), inps, updts, clip=10.0, learning_rate=learning_rate)"
   ]
  },
  {
   "cell_type": "code",
   "execution_count": null,
   "metadata": {},
   "outputs": [
    {
     "name": "stdout",
     "output_type": "stream",
     "text": [
      "[2017-07-13 13:46:53.048362] SGDOptimizer > Optimizing parameters\n",
      "[2017-07-13 13:46:53.437657] SGDOptimizer > Initial loss [0.3920362848683339]\n",
      "\u001b[2K[2017-07-13 13:56:02.793611] SGDOptimizer > Current value: 3.988480E-01, Total evaluations: 284, Avg. time per updt: 1.625315"
     ]
    }
   ],
   "source": [
    "### initial state distribution\n",
    "polopt.max_evals = 1000\n",
    "x0 = np.array([st[0] for st in exp.states])\n",
    "m0 = x0.mean(0)\n",
    "S0 = np.cov(x0, rowvar=False, ddof=1) + 1e-7*np.eye(x0.shape[1]) if len(x0) > 2 else p0.cov\n",
    "polopt.minimize(m0, S0, H, gamma, 1e-2, callback=lambda *args, **kwargs: dyn.update())"
   ]
  },
  {
   "cell_type": "code",
   "execution_count": 56,
   "metadata": {},
   "outputs": [
    {
     "ename": "TypeError",
     "evalue": "Missing required input: BNN>train_inputs",
     "output_type": "error",
     "traceback": [
      "\u001b[0;31m---------------------------------------------------------------------------\u001b[0m",
      "\u001b[0;31mTypeError\u001b[0m                                 Traceback (most recent call last)",
      "\u001b[0;32m<ipython-input-56-2e158a4a55c2>\u001b[0m in \u001b[0;36m<module>\u001b[0;34m()\u001b[0m\n\u001b[0;32m----> 1\u001b[0;31m \u001b[0mdyn\u001b[0m\u001b[0;34m.\u001b[0m\u001b[0moptimizer\u001b[0m\u001b[0;34m.\u001b[0m\u001b[0mloss_fn\u001b[0m\u001b[0;34m(\u001b[0m\u001b[0;34m)\u001b[0m\u001b[0;34m\u001b[0m\u001b[0m\n\u001b[0m",
      "\u001b[0;32m/localdata_ssd/juan/Theano/theano/compile/function_module.pyc\u001b[0m in \u001b[0;36m__call__\u001b[0;34m(self, *args, **kwargs)\u001b[0m\n\u001b[1;32m    864\u001b[0m                     raise TypeError(\"Missing required input: %s\" %\n\u001b[1;32m    865\u001b[0m                                     getattr(self.inv_finder[c], 'variable',\n\u001b[0;32m--> 866\u001b[0;31m                                             self.inv_finder[c]))\n\u001b[0m\u001b[1;32m    867\u001b[0m                 \u001b[0;32mif\u001b[0m \u001b[0mc\u001b[0m\u001b[0;34m.\u001b[0m\u001b[0mprovided\u001b[0m \u001b[0;34m>\u001b[0m \u001b[0;36m1\u001b[0m\u001b[0;34m:\u001b[0m\u001b[0;34m\u001b[0m\u001b[0m\n\u001b[1;32m    868\u001b[0m                     \u001b[0mrestore_defaults\u001b[0m\u001b[0;34m(\u001b[0m\u001b[0;34m)\u001b[0m\u001b[0;34m\u001b[0m\u001b[0m\n",
      "\u001b[0;31mTypeError\u001b[0m: Missing required input: BNN>train_inputs"
     ]
    }
   ],
   "source": [
    "dyn.optimizer.loss_fn()"
   ]
  },
  {
   "cell_type": "code",
   "execution_count": 83,
   "metadata": {},
   "outputs": [],
   "source": [
    "# callback executed after every call to env.step\n",
    "def step_cb(state, action, cost, info):\n",
    "    exp.add_sample(state, action, cost, info)\n",
    "    #env.render()"
   ]
  },
  {
   "cell_type": "code",
   "execution_count": 12,
   "metadata": {},
   "outputs": [
    {
     "data": {
      "text/plain": [
       "325"
      ]
     },
     "execution_count": 12,
     "metadata": {},
     "output_type": "execute_result"
    }
   ],
   "source": [
    "25*13"
   ]
  },
  {
   "cell_type": "code",
   "execution_count": 21,
   "metadata": {},
   "outputs": [
    {
     "data": {
      "text/plain": [
       "(275, 6)"
      ]
     },
     "execution_count": 21,
     "metadata": {},
     "output_type": "execute_result"
    }
   ],
   "source": [
    "exp.get_dynmodel_dataset(filter_episodes=[2, 3, 4, 5, 6, 7, 8, 9, 10, 11, 12], deltas=True, angle_dims=[3])[0].shape"
   ]
  },
  {
   "cell_type": "code",
   "execution_count": 60,
   "metadata": {
    "scrolled": true
   },
   "outputs": [
    {
     "data": {
      "text/plain": [
       "(11,)"
      ]
     },
     "execution_count": 60,
     "metadata": {},
     "output_type": "execute_result"
    }
   ],
   "source": [
    "exp_states.shape"
   ]
  },
  {
   "cell_type": "code",
   "execution_count": 77,
   "metadata": {},
   "outputs": [
    {
     "name": "stdout",
     "output_type": "stream",
     "text": [
      "[2017-07-12 22:01:13.252980] BNN > Building network\n",
      "InputLayer {'shape': (None, 6), 'name': 'BNN_input'}\n",
      "DenseLayer {'num_units': 1000, 'nonlinearity': <function sigmoid at 0x7fc1cd0beae8>, 'name': 'BNN_fc0'}\n",
      "DropoutLayer {'p': 0.05, 'rescale': False, 'name': 'BNN_drop0', 'dropout_samples': array(25, dtype=int32)}\n",
      "DenseLayer {'num_units': 1000, 'nonlinearity': <function sigmoid at 0x7fc1cd0beae8>, 'name': 'BNN_fc1'}\n",
      "DropoutLayer {'p': 0.05, 'rescale': False, 'name': 'BNN_drop1', 'dropout_samples': array(25, dtype=int32)}\n",
      "DenseLayer {'num_units': 4, 'nonlinearity': <function linear at 0x7fc1cd05d510>, 'name': 'BNN_output'}\n"
     ]
    }
   ],
   "source": [
    "dyn.build_network(network_spec=dyn.get_default_network_spec(hidden_dims=[1000,1000]))\n",
    "dyn.optimizer.loss_fn = None"
   ]
  },
  {
   "cell_type": "code",
   "execution_count": null,
   "metadata": {
    "collapsed": true
   },
   "outputs": [],
   "source": []
  }
 ],
 "metadata": {
  "kernelspec": {
   "display_name": "Python 2",
   "language": "python",
   "name": "python2"
  },
  "language_info": {
   "codemirror_mode": {
    "name": "ipython",
    "version": 3
   },
   "file_extension": ".py",
   "mimetype": "text/x-python",
   "name": "python",
   "nbconvert_exporter": "python",
   "pygments_lexer": "ipython3",
   "version": "3.6.1"
  }
 },
 "nbformat": 4,
 "nbformat_minor": 2
}
