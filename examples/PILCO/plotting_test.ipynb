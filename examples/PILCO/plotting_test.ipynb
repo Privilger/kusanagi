{
 "cells": [
  {
   "cell_type": "code",
   "execution_count": 1,
   "metadata": {},
   "outputs": [],
   "source": [
    "%matplotlib tk\n",
    "import os\n",
    "import numpy as np\n",
    "from kusanagi.ghost import control\n",
    "from kusanagi.ghost import regression\n",
    "from kusanagi.shell import cartpole\n",
    "from kusanagi.ghost.algorithms import pilco_, mc_pilco_\n",
    "from kusanagi.ghost.optimizers import ScipyOptimizer, SGDOptimizer\n",
    "from kusanagi.base import apply_controller, train_dynamics, ExperienceDataset\n",
    "from kusanagi import utils\n",
    "from functools import partial\n",
    "#np.random.seed(1337)\n",
    "np.set_printoptions(linewidth=500)\n",
    "\n",
    "from matplotlib import pyplot as plt\n",
    "import theano"
   ]
  },
  {
   "cell_type": "code",
   "execution_count": 2,
   "metadata": {},
   "outputs": [
    {
     "name": "stdout",
     "output_type": "stream",
     "text": [
      "(<class 'kusanagi.ghost.control.NNPolicy.NNPolicy'>, True)\n",
      "[2017-07-11 11:09:37.953141] Experience > Initialising new experience dataset\n"
     ]
    }
   ],
   "source": [
    "# setup output directory\n",
    "utils.set_output_dir(os.path.join(utils.get_output_dir(), 'cartpole'))\n",
    "\n",
    "params = cartpole.default_params()\n",
    "n_rnd = 1                                                # number of random initial trials\n",
    "n_opt = 100                                              #learning iterations\n",
    "H = 26#params['max_steps']\n",
    "gamma = params['discount']\n",
    "angle_dims = params['angle_dims']\n",
    "\n",
    "# initial state distribution\n",
    "p0 = params['state0_dist']\n",
    "D = p0.mean.size\n",
    "\n",
    "# init environment\n",
    "env = cartpole.Cartpole(**params['plant'])\n",
    "\n",
    "# init policy\n",
    "pol = control.NNPolicy(p0.mean,**params['policy'])\n",
    "randpol = control.RandPolicy(maxU=pol.maxU)\n",
    "\n",
    "# init dynmodel\n",
    "#dyn = regression.SSGP_UI(**params['dynamics_model'])\n",
    "dyn = regression.BNN(**params['dynamics_model'])\n",
    "\n",
    "# init cost model\n",
    "cost = partial(cartpole.cartpole_loss, **params['cost'])\n",
    "\n",
    "# create experience dataset\n",
    "exp = ExperienceDataset()\n",
    "\n",
    "# init policy optimizer\n",
    "params['optimizer']['min_method'] = 'adam'\n",
    "params['optimizer']['max_evals'] = 1000\n",
    "polopt = SGDOptimizer(**params['optimizer'])\n",
    "\n",
    "# callback executed after every call to env.step\n",
    "def step_cb(state, action, cost, info):\n",
    "    exp.add_sample(state, action, cost, info)\n",
    "    #env.render()\n",
    "\n",
    "# function to execute before applying policy\n",
    "def gTrig(state):\n",
    "    return utils.gTrig_np(state, angle_dims).flatten()"
   ]
  },
  {
   "cell_type": "code",
   "execution_count": 3,
   "metadata": {},
   "outputs": [
    {
     "name": "stdout",
     "output_type": "stream",
     "text": [
      "[2017-07-11 11:09:38.024797] apply_controller > Starting run\n",
      "[2017-07-11 11:09:38.025624] apply_controller > Running for 2.600000 seconds\n",
      "[2017-07-11 11:09:38.265119] apply_controller > Done. Stopping robot. Value of run [25.961014]\n",
      "[2017-07-11 11:09:38.265992] Cartpole > Stopping robot\n"
     ]
    }
   ],
   "source": [
    "# during first n_rnd trials, apply randomized controls\n",
    "for i in range(n_rnd):\n",
    "    exp.new_episode()\n",
    "    apply_controller(env, randpol, H,\n",
    "                     preprocess=gTrig,\n",
    "                     callback=step_cb)"
   ]
  },
  {
   "cell_type": "code",
   "execution_count": 66,
   "metadata": {},
   "outputs": [
    {
     "name": "stdout",
     "output_type": "stream",
     "text": [
      "[2017-07-11 20:29:25.750499] apply_controller > Starting run\n",
      "[2017-07-11 20:29:25.751351] apply_controller > Running for 2.600000 seconds\n",
      "[2017-07-11 20:29:26.047231] apply_controller > Done. Stopping robot. Value of run [25.158579]\n",
      "[2017-07-11 20:29:26.048095] Cartpole > Stopping robot\n",
      "\n"
     ]
    }
   ],
   "source": [
    "exp.new_episode()\n",
    "apply_controller(env, pol, H,\n",
    "                 preprocess=gTrig,\n",
    "                 callback=step_cb)\n",
    "print('')"
   ]
  },
  {
   "cell_type": "code",
   "execution_count": 73,
   "metadata": {},
   "outputs": [
    {
     "name": "stdout",
     "output_type": "stream",
     "text": [
      "[2017-07-11 20:32:45.578205] train_dynamics > Training dynamics model\n",
      "[2017-07-11 20:32:45.581939] train_dynamics > Dataset size:: Inputs: [ (225, 6) ], Targets: [ (225, 4) ]  \n",
      "[2017-07-11 20:32:45.583056] BNN_opt > Optimizing parameters via mini batches\n",
      "[2017-07-11 20:32:45.585932] BNN_opt > Initial loss [81.5391260006]\n",
      "\u001b[2K[2017-07-11 20:33:18.494740] BNN_opt > Current value: -3.552428E+00, Total evaluations: 5000, Avg. time per updt: 0.006524\n",
      "[2017-07-11 20:33:18.498776] train_dynamics > Done training dynamics model\n"
     ]
    },
    {
     "data": {
      "text/plain": [
       "<kusanagi.ghost.regression.NN.BNN at 0x7f3783b82fd0>"
      ]
     },
     "execution_count": 73,
     "metadata": {},
     "output_type": "execute_result"
    }
   ],
   "source": [
    "# train dynamics model\n",
    "dyn.optimizer.max_evals = 5000\n",
    "train_dynamics(dyn, exp, angle_dims=angle_dims, init_episode=0)"
   ]
  },
  {
   "cell_type": "code",
   "execution_count": 76,
   "metadata": {},
   "outputs": [
    {
     "name": "stdout",
     "output_type": "stream",
     "text": [
      "[2017-07-11 20:33:39.111646] mc_pilco.rollout > Building computation graph for state particles propagation\n"
     ]
    }
   ],
   "source": [
    "rollout_fn = mc_pilco_.build_rollout(pol, dyn, cost, D, angle_dims, n_samples=100, resample_particles=True)\n",
    "plt.close('all')\n",
    "state_fig = None"
   ]
  },
  {
   "cell_type": "code",
   "execution_count": 77,
   "metadata": {},
   "outputs": [],
   "source": [
    "dyn.update()\n",
    "loss, costs, trajectories = rollout_fn(p0.mean, p0.cov, H, 1)\n",
    "n_samples, T, dims = trajectories.shape\n",
    "\n",
    "if not state_fig:\n",
    "    state_fig, state_axarr = plt.subplots(dims, sharex=True)\n",
    "exp_states = np.array(exp.states)\n",
    "for d in range(dims):\n",
    "    st = trajectories[:,:,d]\n",
    "    #plot predictive distribution\n",
    "    for i in range(n_samples):\n",
    "        state_axarr[d].plot(np.arange(T-1), st[i,:-1], color='steelblue', alpha=0.3)\n",
    "    #for i in range(len(exp.states)):\n",
    "    #    state_axarr[d].plot(np.arange(T-1), exp_states[i,1:,d], color='orange', alpha=0.3)\n",
    "    #plot experience\n",
    "    state_axarr[d].plot(np.arange(T-1), exp_states[-1,1:,d], color='red')\n",
    "    state_axarr[d].plot(np.arange(T-1), st[:,:-1].mean(0), color='purple')\n",
    "plt.show()"
   ]
  },
  {
   "cell_type": "code",
   "execution_count": 79,
   "metadata": {},
   "outputs": [
    {
     "name": "stdout",
     "output_type": "stream",
     "text": [
      "[2017-07-11 20:35:11.434974] mc_pilco.rollout > Building computation graph for state particles propagation\n",
      "[2017-07-11 20:35:11.756249] SGDOptimizer > Building computation graph for gradients\n",
      "[2017-07-11 20:35:12.533739] SGDOptimizer > Computing parameter update rules\n",
      "[2017-07-11 20:35:12.553664] SGDOptimizer > Compiling function for loss\n",
      "[2017-07-11 20:35:15.186482] SGDOptimizer > Compiling parameter updates\n"
     ]
    }
   ],
   "source": [
    "# init policy optimizer\n",
    "learning_rate = theano.tensor.scalar('lr')\n",
    "loss, inps, updts = mc_pilco_.get_loss(pol, dyn, cost, D, angle_dims, n_samples=100, resample_particles=True)\n",
    "inps.append(learning_rate)\n",
    "polopt.set_objective(loss, pol.get_params(symbolic=True), inps, updts, clip=1000.0, learning_rate=learning_rate)"
   ]
  },
  {
   "cell_type": "code",
   "execution_count": 80,
   "metadata": {
    "scrolled": true
   },
   "outputs": [
    {
     "name": "stdout",
     "output_type": "stream",
     "text": [
      "[2017-07-11 20:35:36.405261] SGDOptimizer > Optimizing parameters\n",
      "[2017-07-11 20:35:36.441510] SGDOptimizer > Initial loss [0.91068711824]\n",
      "\u001b[2K[2017-07-11 20:38:45.944667] SGDOptimizer > Current value: 9.571826E-01, Total evaluations: 2000, Avg. time per updt: 0.074791\n",
      "[2017-07-11 20:38:45.945742] SGDOptimizer > Done training. New value [0.887812] iter: [439]\n"
     ]
    }
   ],
   "source": [
    "# initial state distribution\n",
    "polopt.max_evals = 2000\n",
    "x0 = np.array([st[0] for st in exp.states])\n",
    "m0 = x0.mean(0)\n",
    "S0 = np.cov(x0, rowvar=False, ddof=1) + 1e-7*np.eye(x0.shape[1]) if len(x0) > 2 else p0.cov\n",
    "polopt.minimize(m0, S0, H, gamma, 1e-2, callback=lambda *args, **kwargs: dynmodel.update)"
   ]
  },
  {
   "cell_type": "code",
   "execution_count": 3,
   "metadata": {},
   "outputs": [
    {
     "data": {
      "text/plain": [
       "{'angle_dims': [3],\n",
       " 'maxU': [10],\n",
       " 'n_inducing': 30,\n",
       " 'state0_dist': <kusanagi.utils.distributions.Gaussian at 0x7fb7865d9250>}"
      ]
     },
     "execution_count": 3,
     "metadata": {},
     "output_type": "execute_result"
    }
   ],
   "source": [
    "params['policy']"
   ]
  },
  {
   "cell_type": "code",
   "execution_count": 56,
   "metadata": {},
   "outputs": [
    {
     "ename": "TypeError",
     "evalue": "Missing required input: BNN>train_inputs",
     "output_type": "error",
     "traceback": [
      "\u001b[0;31m---------------------------------------------------------------------------\u001b[0m",
      "\u001b[0;31mTypeError\u001b[0m                                 Traceback (most recent call last)",
      "\u001b[0;32m<ipython-input-56-2e158a4a55c2>\u001b[0m in \u001b[0;36m<module>\u001b[0;34m()\u001b[0m\n\u001b[0;32m----> 1\u001b[0;31m \u001b[0mdyn\u001b[0m\u001b[0;34m.\u001b[0m\u001b[0moptimizer\u001b[0m\u001b[0;34m.\u001b[0m\u001b[0mloss_fn\u001b[0m\u001b[0;34m(\u001b[0m\u001b[0;34m)\u001b[0m\u001b[0;34m\u001b[0m\u001b[0m\n\u001b[0m",
      "\u001b[0;32m/localdata_ssd/juan/Theano/theano/compile/function_module.pyc\u001b[0m in \u001b[0;36m__call__\u001b[0;34m(self, *args, **kwargs)\u001b[0m\n\u001b[1;32m    864\u001b[0m                     raise TypeError(\"Missing required input: %s\" %\n\u001b[1;32m    865\u001b[0m                                     getattr(self.inv_finder[c], 'variable',\n\u001b[0;32m--> 866\u001b[0;31m                                             self.inv_finder[c]))\n\u001b[0m\u001b[1;32m    867\u001b[0m                 \u001b[0;32mif\u001b[0m \u001b[0mc\u001b[0m\u001b[0;34m.\u001b[0m\u001b[0mprovided\u001b[0m \u001b[0;34m>\u001b[0m \u001b[0;36m1\u001b[0m\u001b[0;34m:\u001b[0m\u001b[0;34m\u001b[0m\u001b[0m\n\u001b[1;32m    868\u001b[0m                     \u001b[0mrestore_defaults\u001b[0m\u001b[0;34m(\u001b[0m\u001b[0;34m)\u001b[0m\u001b[0;34m\u001b[0m\u001b[0m\n",
      "\u001b[0;31mTypeError\u001b[0m: Missing required input: BNN>train_inputs"
     ]
    }
   ],
   "source": [
    "dyn.optimizer.loss_fn()"
   ]
  },
  {
   "cell_type": "code",
   "execution_count": 71,
   "metadata": {},
   "outputs": [
    {
     "name": "stdout",
     "output_type": "stream",
     "text": [
      "9\n"
     ]
    }
   ],
   "source": [
    "print(exp.n_episodes())"
   ]
  },
  {
   "cell_type": "code",
   "execution_count": null,
   "metadata": {
    "collapsed": true
   },
   "outputs": [],
   "source": []
  }
 ],
 "metadata": {
  "kernelspec": {
   "display_name": "Python 2",
   "language": "python",
   "name": "python2"
  },
  "language_info": {
   "codemirror_mode": {
    "name": "ipython",
    "version": 2
   },
   "file_extension": ".py",
   "mimetype": "text/x-python",
   "name": "python",
   "nbconvert_exporter": "python",
   "pygments_lexer": "ipython2",
   "version": "2.7.13"
  }
 },
 "nbformat": 4,
 "nbformat_minor": 2
}
