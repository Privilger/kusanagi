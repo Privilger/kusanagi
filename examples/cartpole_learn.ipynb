{
 "cells": [
  {
   "cell_type": "code",
   "execution_count": 1,
   "metadata": {
    "collapsed": true
   },
   "outputs": [],
   "source": [
    " %matplotlib tk\n",
    "import os\n",
    "import sys\n",
    "import numpy as np\n",
    "import theano\n",
    "\n",
    "from kusanagi.ghost import control\n",
    "from kusanagi.ghost import regression\n",
    "from kusanagi.shell import cartpole\n",
    "from kusanagi.ghost.algorithms import pilco, mc_pilco\n",
    "from kusanagi.ghost.optimizers import ScipyOptimizer, SGDOptimizer\n",
    "from kusanagi.base import apply_controller, train_dynamics, ExperienceDataset\n",
    "from kusanagi import utils\n",
    "from functools import partial\n",
    "from matplotlib import pyplot as plt\n",
    "\n",
    "# np.random.seed(1337)\n",
    "np.set_printoptions(linewidth=500)"
   ]
  },
  {
   "cell_type": "code",
   "execution_count": 2,
   "metadata": {
    "collapsed": true
   },
   "outputs": [],
   "source": [
    "def plot_rollout(rollout_fn, *args, **kwargs):\n",
    "    fig = kwargs.get('fig')\n",
    "    axarr = kwargs.get('axarr')\n",
    "    loss, costs, trajectories = rollout_fn(*args)\n",
    "    n_samples, T, dims = trajectories.shape\n",
    "\n",
    "    if fig is None or axarr is None:\n",
    "        fig, axarr = plt.subplots(dims, sharex=True)\n",
    "    exp_states = np.array(exp.states)\n",
    "    for d in range(dims):\n",
    "        axarr[d].clear()\n",
    "        st = trajectories[:, :, d]\n",
    "        # plot predictive distribution\n",
    "        for i in range(n_samples):\n",
    "            axarr[d].plot(\n",
    "                np.arange(T-1), st[i, :-1], color='steelblue', alpha=0.3)\n",
    "        # for i in range(len(exp.states)):\n",
    "        #    axarr[d].plot(\n",
    "        #         np.arange(T-1), exp_states[i,1:,d],\n",
    "        #         color='orange', alpha=0.3)\n",
    "        # plot experience\n",
    "        axarr[d].plot(\n",
    "            np.arange(T-1), np.array(exp.states[-1])[1:H, d], color='red')\n",
    "        axarr[d].plot(\n",
    "            np.arange(T-1), st[:, :-1].mean(0), color='purple')\n",
    "    plt.show(block=False)\n",
    "    plt.waitforbuttonpress(0.1)\n",
    "\n",
    "    return fig, axarr"
   ]
  },
  {
   "cell_type": "code",
   "execution_count": 3,
   "metadata": {
    "collapsed": true
   },
   "outputs": [],
   "source": [
    "use_bnn_dyn = True\n",
    "use_bnn_pol = True\n",
    "\n",
    "# setup output directory\n",
    "utils.set_output_dir(os.path.join(utils.get_output_dir(), 'cartpole'))\n",
    "\n",
    "params = cartpole.default_params()\n",
    "n_rnd = 4                           # number of random initial trials\n",
    "n_opt = 100                         # learning iterations\n",
    "n_samples = 50                      # number of MC samples if bayesian nn\n",
    "H = params['max_steps']\n",
    "gamma = params['discount']\n",
    "angle_dims = params['angle_dims']\n",
    "\n",
    "# initial state distribution\n",
    "p0 = params['state0_dist']\n",
    "D = p0.mean.size"
   ]
  },
  {
   "cell_type": "code",
   "execution_count": 4,
   "metadata": {},
   "outputs": [
    {
     "name": "stdout",
     "output_type": "stream",
     "text": [
      "<class 'kusanagi.ghost.control.NNPolicy.NNPolicy'> True\n",
      "[2017-08-21 18:03:44.164641] Experience > Initialising new experience dataset\n"
     ]
    }
   ],
   "source": [
    "# init environment\n",
    "env = cartpole.Cartpole(**params['plant'])\n",
    "\n",
    "# init policy\n",
    "pol = control.NNPolicy(p0.mean, **params['policy'])\\\n",
    "    if use_bnn_pol else control.RBFPolicy(**params['policy'])\n",
    "randpol = control.RandPolicy(maxU=pol.maxU)\n",
    "\n",
    "# init dynmodel\n",
    "dyn = regression.BNN(**params['dynamics_model'])\\\n",
    "    if use_bnn_dyn else regression.SSGP_UI(**params['dynamics_model'])\n",
    "\n",
    "# init cost model\n",
    "cost = partial(cartpole.cartpole_loss, **params['cost'])\n",
    "\n",
    "# create experience dataset\n",
    "exp = ExperienceDataset()\n",
    "\n",
    "# init policy optimizer\n",
    "if use_bnn_dyn:\n",
    "    params['optimizer']['min_method'] = 'adam'\n",
    "    params['optimizer']['max_evals'] = 1000\n",
    "    polopt = SGDOptimizer(**params['optimizer'])\n",
    "else:\n",
    "    polopt = ScipyOptimizer(**params['optimizer'])"
   ]
  },
  {
   "cell_type": "code",
   "execution_count": 5,
   "metadata": {
    "scrolled": false
   },
   "outputs": [
    {
     "name": "stdout",
     "output_type": "stream",
     "text": [
      "[2017-08-21 18:03:44.256172] apply_controller > Starting run\n",
      "[2017-08-21 18:03:44.257142] apply_controller > Running for 4.000000 seconds\n"
     ]
    },
    {
     "name": "stderr",
     "output_type": "stream",
     "text": [
      "/home/juancamilog/miniconda3/lib/python3.6/site-packages/matplotlib/backend_bases.py:2453: MatplotlibDeprecationWarning: Using default event loop until function specific to this GUI is implemented\n",
      "  warnings.warn(str, mplDeprecation)\n"
     ]
    },
    {
     "name": "stdout",
     "output_type": "stream",
     "text": [
      "[2017-08-21 18:03:46.566051] apply_controller > Done. Stopping robot. Value of run [39.995888]\n",
      "[2017-08-21 18:03:46.567123] Cartpole > Stopping robot\n",
      "[2017-08-21 18:03:46.568318] apply_controller > Starting run\n",
      "[2017-08-21 18:03:46.569415] apply_controller > Running for 4.000000 seconds\n",
      "[2017-08-21 18:03:48.637807] apply_controller > Done. Stopping robot. Value of run [39.987671]\n",
      "[2017-08-21 18:03:48.638581] Cartpole > Stopping robot\n",
      "[2017-08-21 18:03:48.639193] apply_controller > Starting run\n",
      "[2017-08-21 18:03:48.639801] apply_controller > Running for 4.000000 seconds\n",
      "[2017-08-21 18:03:50.422810] apply_controller > Done. Stopping robot. Value of run [39.996159]\n",
      "[2017-08-21 18:03:50.423599] Cartpole > Stopping robot\n",
      "[2017-08-21 18:03:50.424280] apply_controller > Starting run\n",
      "[2017-08-21 18:03:50.424853] apply_controller > Running for 4.000000 seconds\n",
      "[2017-08-21 18:03:52.199471] apply_controller > Done. Stopping robot. Value of run [39.996559]\n",
      "[2017-08-21 18:03:52.200489] Cartpole > Stopping robot\n"
     ]
    }
   ],
   "source": [
    "# callback executed after every call to env.step\n",
    "def step_cb(state, action, cost, info):\n",
    "    exp.add_sample(state, action, cost, info)\n",
    "    env.render()\n",
    "\n",
    "def polopt_cb(*args, **kwargs):\n",
    "    if hasattr(dyn, 'update'):\n",
    "        dyn.update()\n",
    "    if hasattr(pol, 'update'):\n",
    "        pol.update()\n",
    "        \n",
    "    loss, dloss = args[:2]\n",
    "    grad_norms = [np.sqrt((d.__array__()**2).sum()) for d in dloss]\n",
    "    if sum(grad_norms) >  10.0*len(grad_norms):\n",
    "        print([np.sqrt((d.__array__()**2).sum()) for d in dloss])\n",
    "\n",
    "# function to execute before applying policy\n",
    "def gTrig(state):\n",
    "    return utils.gTrig_np(state, angle_dims).flatten()\n",
    "\n",
    "# during first n_rnd trials, apply randomized controls\n",
    "for i in range(n_rnd):\n",
    "    exp.new_episode()\n",
    "    apply_controller(env, randpol, H,\n",
    "                     preprocess=gTrig,\n",
    "                     callback=step_cb)"
   ]
  },
  {
   "cell_type": "code",
   "execution_count": null,
   "metadata": {
    "scrolled": true
   },
   "outputs": [
    {
     "name": "stdout",
     "output_type": "stream",
     "text": [
      "[2017-08-21 18:03:52.392861] ==== Iteration [1], experience: [160 steps] ====\n",
      "[2017-08-21 18:03:52.393804] train_dynamics > Training dynamics model\n",
      "[2017-08-21 18:03:52.397333] train_dynamics > Dataset size:: Inputs: [ (156, 6) ], Targets: [ (156, 4) ]  \n",
      "[2017-08-21 18:03:52.398618] BNN > Building network\n",
      "InputLayer {'shape': (None, 6), 'name': 'BNN_input'}\n",
      "DenseLayer {'num_units': 400, 'nonlinearity': <lasagne.nonlinearities.LeakyRectify object at 0x7fb4209590b8>, 'W': <lasagne.init.Orthogonal object at 0x7fb4205ca198>, 'b': <lasagne.init.Constant object at 0x7fb4205ca208>, 'name': 'BNN_fc0'}\n",
      "DropoutLayer {'p': 0.05, 'rescale': False, 'name': 'BNN_drop0', 'n_samples': array(25, dtype=int32)}\n",
      "DenseLayer {'num_units': 400, 'nonlinearity': <lasagne.nonlinearities.LeakyRectify object at 0x7fb4209590b8>, 'W': <lasagne.init.Orthogonal object at 0x7fb4205ca198>, 'b': <lasagne.init.Constant object at 0x7fb4205ca208>, 'name': 'BNN_fc1'}\n",
      "DropoutLayer {'p': 0.05, 'rescale': False, 'name': 'BNN_drop1', 'n_samples': array(25, dtype=int32)}\n",
      "DenseLayer {'num_units': 400, 'nonlinearity': <lasagne.nonlinearities.LeakyRectify object at 0x7fb4209590b8>, 'W': <lasagne.init.Orthogonal object at 0x7fb4205ca198>, 'b': <lasagne.init.Constant object at 0x7fb4205ca208>, 'name': 'BNN_fc2'}\n",
      "DropoutLayer {'p': 0.05, 'rescale': False, 'name': 'BNN_drop2', 'n_samples': array(25, dtype=int32)}\n",
      "DenseLayer {'num_units': 8, 'nonlinearity': <function linear at 0x7fb42095a0d0>, 'W': <lasagne.init.Orthogonal object at 0x7fb4205ca198>, 'b': <lasagne.init.Constant object at 0x7fb4205ca208>, 'name': 'BNN_output'}\n",
      "[2017-08-21 18:03:52.479173] BNN > Initialising loss function\n",
      "[2017-08-21 18:03:53.205204] BNN_opt > Building computation graph for gradients\n",
      "[2017-08-21 18:03:53.318761] BNN_opt > Computing parameter update rules\n",
      "[2017-08-21 18:03:53.392559] BNN_opt > Compiling function for loss\n",
      "[2017-08-21 18:03:54.812771] BNN_opt > Compiling parameter updates\n",
      "[2017-08-21 18:03:57.804275] BNN_opt > Optimizing parameters via mini batches\n",
      "[2017-08-21 18:03:57.823058] BNN_opt > Initial loss [337.6385192871094]\n",
      "\u001b[2K[2017-08-21 18:04:07.843181] BNN_opt > Curr loss: -1.049592E+03 [991: -1.060810E+03], n_evals: 1000, Avg. time per updt: 0.009030\n",
      "[2017-08-21 18:04:07.859058] BNN_opt > Done training. New loss [-1118.219360] iter: [1001]\n",
      "[2017-08-21 18:04:07.860089] train_dynamics > Done training dynamics model\n",
      "[2017-08-21 18:04:08.150429] NNPolicy > Building network\n",
      "InputLayer {'shape': (None, 5), 'name': 'NNPolicy_input'}\n",
      "DenseLayer {'num_units': 100, 'nonlinearity': <function rectify at 0x7fb420955b70>, 'W': <lasagne.init.Orthogonal object at 0x7fb4205ca198>, 'b': <lasagne.init.Constant object at 0x7fb4205ca208>, 'name': 'NNPolicy_fc0'}\n",
      "DropoutLayer {'p': 0.05, 'rescale': False, 'name': 'NNPolicy_drop0', 'n_samples': array(50, dtype=int32)}\n",
      "DenseLayer {'num_units': 100, 'nonlinearity': <function rectify at 0x7fb420955b70>, 'W': <lasagne.init.Orthogonal object at 0x7fb4205ca198>, 'b': <lasagne.init.Constant object at 0x7fb4205ca208>, 'name': 'NNPolicy_fc1'}\n",
      "DropoutLayer {'p': 0.05, 'rescale': False, 'name': 'NNPolicy_drop1', 'n_samples': array(50, dtype=int32)}\n",
      "DenseLayer {'num_units': 1, 'nonlinearity': functools.partial(<function tanhSat at 0x7fb4205cb048>, e=array([ 10.], dtype=float32)), 'W': <lasagne.init.Orthogonal object at 0x7fb4205ca198>, 'b': <lasagne.init.Constant object at 0x7fb4205ca208>, 'name': 'NNPolicy_output'}\n",
      "[2017-08-21 18:04:08.341894] mc_pilco.rollout > Building computation graph for state particles propagation\n",
      "[2017-08-21 18:04:09.276814] SGDOptimizer > Building computation graph for gradients\n",
      "[2017-08-21 18:04:09.932586] SGDOptimizer > Computing parameter update rules\n",
      "[2017-08-21 18:04:09.985394] SGDOptimizer > Compiling function for loss\n",
      "[2017-08-21 18:04:13.688105] SGDOptimizer > Compiling parameter updates\n",
      "[2017-08-21 18:04:26.067459] mc_pilco.rollout > Building computation graph for state particles propagation\n",
      "[2017-08-21 18:04:27.678148] SGDOptimizer > Optimizing parameters\n",
      "[2017-08-21 18:04:27.826403] SGDOptimizer > Initial loss [0.9999954104423523]\n",
      "\u001b[2K[2017-08-21 18:07:00.874790] SGDOptimizer > Curr loss: 7.715728E-01 [984: 7.616302E-01], n_evals: 999, Avg. time per updt: 0.152387\n",
      "[2017-08-21 18:07:00.909062] SGDOptimizer > Done training. New loss [0.687028] iter: [984]\n",
      "[2017-08-21 18:07:00.910083] apply_controller > Starting run\n",
      "[2017-08-21 18:07:00.910707] apply_controller > Running for 4.000000 seconds\n",
      "[2017-08-21 18:07:00.911796] NNPolicy > Initialising expression graph for prediction\n",
      "[2017-08-21 18:07:01.023702] NNPolicy > Compiling mean and variance of prediction\n",
      "[2017-08-21 18:07:01.149041] NNPolicy > Done compiling\n"
     ]
    },
    {
     "name": "stderr",
     "output_type": "stream",
     "text": [
      "/home/juancamilog/miniconda3/lib/python3.6/site-packages/matplotlib/backend_bases.py:2453: MatplotlibDeprecationWarning: Using default event loop until function specific to this GUI is implemented\n",
      "  warnings.warn(str, mplDeprecation)\n"
     ]
    },
    {
     "name": "stdout",
     "output_type": "stream",
     "text": [
      "[2017-08-21 18:07:03.073082] apply_controller > Done. Stopping robot. Value of run [37.076660]\n",
      "[2017-08-21 18:07:03.073789] Cartpole > Stopping robot\n",
      "[2017-08-21 18:07:04.016804] ==== Iteration [2], experience: [200 steps] ====\n",
      "[2017-08-21 18:07:04.017691] train_dynamics > Training dynamics model\n",
      "[2017-08-21 18:07:04.019891] train_dynamics > Dataset size:: Inputs: [ (195, 6) ], Targets: [ (195, 4) ]  \n",
      "[2017-08-21 18:07:04.020726] BNN_opt > Optimizing parameters via mini batches\n",
      "[2017-08-21 18:07:04.036579] BNN_opt > Initial loss [1512.978515625]\n",
      "\u001b[2K[2017-08-21 18:07:13.347775] BNN_opt > Curr loss: -9.589230E+02 [924: -9.770493E+02], n_evals: 1000, Avg. time per updt: 0.008408\n",
      "[2017-08-21 18:07:13.361742] BNN_opt > Done training. New loss [-1016.945496] iter: [1001]\n",
      "[2017-08-21 18:07:13.363006] train_dynamics > Done training dynamics model\n",
      "[2017-08-21 18:07:14.049992] SGDOptimizer > Optimizing parameters\n",
      "[2017-08-21 18:07:14.195462] SGDOptimizer > Initial loss [0.9224144816398621]\n",
      "\u001b[2K[2017-08-21 18:09:16.969094] SGDOptimizer > Curr loss: 8.552800E-01 [987: 8.495303E-01], n_evals: 999, Avg. time per updt: 0.122225\n",
      "[2017-08-21 18:09:16.999934] SGDOptimizer > Done training. New loss [0.842033] iter: [987]\n",
      "[2017-08-21 18:09:17.000896] apply_controller > Starting run\n",
      "[2017-08-21 18:09:17.001599] apply_controller > Running for 4.000000 seconds\n",
      "[2017-08-21 18:09:21.464504] apply_controller > Done. Stopping robot. Value of run [34.670761]\n",
      "[2017-08-21 18:09:21.465227] Cartpole > Stopping robot\n",
      "[2017-08-21 18:09:22.167481] ==== Iteration [3], experience: [240 steps] ====\n",
      "[2017-08-21 18:09:22.168583] train_dynamics > Training dynamics model\n",
      "[2017-08-21 18:09:22.172341] train_dynamics > Dataset size:: Inputs: [ (234, 6) ], Targets: [ (234, 4) ]  \n",
      "[2017-08-21 18:09:22.173796] BNN_opt > Optimizing parameters via mini batches\n",
      "[2017-08-21 18:09:22.189503] BNN_opt > Initial loss [883.28857421875]\n",
      "\u001b[2K[2017-08-21 18:09:32.484604] BNN_opt > Curr loss: -9.077283E+02 [992: -9.124590E+02], n_evals: 1000, Avg. time per updt: 0.009362\n",
      "[2017-08-21 18:09:32.501233] BNN_opt > Done training. New loss [-961.634827] iter: [1001]\n",
      "[2017-08-21 18:09:32.502295] train_dynamics > Done training dynamics model\n",
      "[2017-08-21 18:09:33.230689] SGDOptimizer > Optimizing parameters\n",
      "[2017-08-21 18:09:33.407447] SGDOptimizer > Initial loss [0.9234997630119324]\n",
      "\u001b[2K[2017-08-21 18:11:40.715980] SGDOptimizer > Curr loss: 8.998459E-01 [609: 8.975813E-01], n_evals: 999, Avg. time per updt: 0.126764\n",
      "[2017-08-21 18:11:40.751235] SGDOptimizer > Done training. New loss [0.889969] iter: [609]\n",
      "[2017-08-21 18:11:40.752193] apply_controller > Starting run\n",
      "[2017-08-21 18:11:40.753156] apply_controller > Running for 4.000000 seconds\n",
      "[2017-08-21 18:11:45.167614] apply_controller > Done. Stopping robot. Value of run [34.657963]\n",
      "[2017-08-21 18:11:45.168347] Cartpole > Stopping robot\n",
      "[2017-08-21 18:11:45.861879] ==== Iteration [4], experience: [280 steps] ====\n",
      "[2017-08-21 18:11:45.862770] train_dynamics > Training dynamics model\n",
      "[2017-08-21 18:11:45.865063] train_dynamics > Dataset size:: Inputs: [ (273, 6) ], Targets: [ (273, 4) ]  \n",
      "[2017-08-21 18:11:45.865840] BNN_opt > Optimizing parameters via mini batches\n",
      "[2017-08-21 18:11:45.884848] BNN_opt > Initial loss [-123.57626342773438]\n",
      "\u001b[2K[2017-08-21 18:11:56.289679] BNN_opt > Curr loss: -9.237005E+02 [914: -9.385825E+02], n_evals: 1000, Avg. time per updt: 0.009452\n",
      "[2017-08-21 18:11:56.306126] BNN_opt > Done training. New loss [-919.447327] iter: [1001]\n",
      "[2017-08-21 18:11:56.307309] train_dynamics > Done training dynamics model\n",
      "[2017-08-21 18:11:57.033670] SGDOptimizer > Optimizing parameters\n",
      "[2017-08-21 18:11:57.173769] SGDOptimizer > Initial loss [0.9010728597640991]\n",
      "\u001b[2K[2017-08-21 18:11:59.092470] SGDOptimizer > Curr loss: 9.116625E-01 [10: 9.010119E-01], n_evals: 16, Avg. time per updt: 0.119160"
     ]
    }
   ],
   "source": [
    "# PILCO loop\n",
    "rollout_fn = None\n",
    "fig, axarr = None, None\n",
    "for i in range(n_opt):\n",
    "    total_exp = sum([len(st) for st in exp.states])\n",
    "    msg = '==== Iteration [%d], experience: [%d steps] ===='\n",
    "    utils.print_with_stamp(msg % (i+1, total_exp))\n",
    "\n",
    "    # train dynamics model\n",
    "    train_dynamics(dyn, exp, angle_dims=angle_dims)\n",
    "\n",
    "    # initial state distribution\n",
    "    x0 = np.array([st[0] for st in exp.states])\n",
    "    m0 = x0.mean(0)\n",
    "    S0 = np.cov(x0, rowvar=False, ddof=1) +\\\n",
    "        1e-4*np.eye(x0.shape[1]) if len(x0) > 2 else p0.cov\n",
    "\n",
    "    if fig is not None:\n",
    "        # plot rollout\n",
    "        fig, axarr = plot_rollout(\n",
    "            rollout_fn, m0, S0, H, gamma, fig=fig, axarr=axarr)\n",
    "\n",
    "    # train policy\n",
    "    if polopt.loss_fn is None or dyn.should_recompile:\n",
    "        loss_kwargs = {}\n",
    "        obj_kwargs = {}\n",
    "        extra_inps = []\n",
    "        if use_bnn_dyn:\n",
    "            # init learning rate parameter\n",
    "            lr = theano.tensor.scalar('lr')\n",
    "            extra_inps += [lr]\n",
    "\n",
    "            # parameters for building loss function\n",
    "            loss_kwargs['n_samples'] = n_samples\n",
    "            loss_kwargs['resample_particles'] = True\n",
    "            obj_kwargs['learning_rate'] = lr\n",
    "            obj_kwargs['clip'] = 10.0\n",
    "            learner = mc_pilco\n",
    "        else:\n",
    "            learner = pilco\n",
    "\n",
    "        # build loss function\n",
    "        loss, inps, updts = learner.get_loss(\n",
    "            pol, dyn, cost, D, angle_dims, **loss_kwargs)\n",
    "        inps += extra_inps\n",
    "\n",
    "        # set objective of policy optimizer\n",
    "        polopt.set_objective(loss, pol.get_params(symbolic=True),\n",
    "                             inps, updts, **obj_kwargs)\n",
    "\n",
    "        # build rollout function for plotting\n",
    "        if rollout_fn is None:\n",
    "            loss_kwargs['resample_particles'] = False\n",
    "            rollout_fn = learner.build_rollout(\n",
    "                pol, dyn, cost, D, angle_dims, **loss_kwargs)\n",
    "\n",
    "    polopt_args = [m0, S0, H, gamma]\n",
    "    if use_bnn_dyn:\n",
    "        polopt_args.append(1e-3)\n",
    "    polopt.minimize(*polopt_args,\n",
    "                    callback=polopt_cb)\n",
    "\n",
    "    # apply controller\n",
    "    exp.new_episode(policy_params=pol.get_params())\n",
    "    apply_controller(env, pol, H,\n",
    "                     preprocess=gTrig, callback=step_cb)\n",
    "\n",
    "    # plot rollout\n",
    "    fig, axarr = plot_rollout(\n",
    "        rollout_fn, m0, S0, H, gamma, fig=fig, axarr=axarr)\n",
    "input('Finished training')"
   ]
  },
  {
   "cell_type": "code",
   "execution_count": null,
   "metadata": {
    "collapsed": true
   },
   "outputs": [],
   "source": []
  },
  {
   "cell_type": "code",
   "execution_count": null,
   "metadata": {
    "collapsed": true
   },
   "outputs": [],
   "source": []
  }
 ],
 "metadata": {
  "kernelspec": {
   "display_name": "Python 2",
   "language": "python",
   "name": "python2"
  },
  "language_info": {
   "codemirror_mode": {
    "name": "ipython",
    "version": 3
   },
   "file_extension": ".py",
   "mimetype": "text/x-python",
   "name": "python",
   "nbconvert_exporter": "python",
   "pygments_lexer": "ipython3",
   "version": "3.6.2"
  }
 },
 "nbformat": 4,
 "nbformat_minor": 2
}
