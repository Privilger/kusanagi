{
 "cells": [
  {
   "cell_type": "code",
   "execution_count": 1,
   "metadata": {
    "collapsed": true
   },
   "outputs": [],
   "source": [
    " %matplotlib tk\n",
    "import os\n",
    "import sys\n",
    "import numpy as np\n",
    "import theano\n",
    "\n",
    "from kusanagi.ghost import control\n",
    "from kusanagi.ghost import regression\n",
    "from kusanagi.shell import cartpole\n",
    "from kusanagi.ghost.algorithms import pilco, mc_pilco\n",
    "from kusanagi.ghost.optimizers import ScipyOptimizer, SGDOptimizer\n",
    "from kusanagi.base import apply_controller, train_dynamics, ExperienceDataset\n",
    "from kusanagi import utils\n",
    "from functools import partial\n",
    "from matplotlib import pyplot as plt\n",
    "\n",
    "# np.random.seed(1337)\n",
    "np.set_printoptions(linewidth=500)"
   ]
  },
  {
   "cell_type": "code",
   "execution_count": 2,
   "metadata": {
    "collapsed": true
   },
   "outputs": [],
   "source": [
    "def plot_rollout(rollout_fn, *args, **kwargs):\n",
    "    fig = kwargs.get('fig')\n",
    "    axarr = kwargs.get('axarr')\n",
    "    loss, costs, trajectories = rollout_fn(*args)\n",
    "    n_samples, T, dims = trajectories.shape\n",
    "\n",
    "    if fig is None or axarr is None:\n",
    "        fig, axarr = plt.subplots(dims, sharex=True)\n",
    "    exp_states = np.array(exp.states)\n",
    "    for d in range(dims):\n",
    "        axarr[d].clear()\n",
    "        st = trajectories[:, :, d]\n",
    "        # plot predictive distribution\n",
    "        for i in range(n_samples):\n",
    "            axarr[d].plot(\n",
    "                np.arange(T-1), st[i, :-1], color='steelblue', alpha=0.3)\n",
    "        # for i in range(len(exp.states)):\n",
    "        #    axarr[d].plot(\n",
    "        #         np.arange(T-1), exp_states[i,1:,d],\n",
    "        #         color='orange', alpha=0.3)\n",
    "        # plot experience\n",
    "        axarr[d].plot(\n",
    "            np.arange(T-1), np.array(exp.states[-1])[1:H, d], color='red')\n",
    "        axarr[d].plot(\n",
    "            np.arange(T-1), st[:, :-1].mean(0), color='purple')\n",
    "    plt.show(block=False)\n",
    "    plt.waitforbuttonpress(0.1)\n",
    "\n",
    "    return fig, axarr"
   ]
  },
  {
   "cell_type": "code",
   "execution_count": 3,
   "metadata": {
    "collapsed": true
   },
   "outputs": [],
   "source": [
    "use_bnn_dyn = True\n",
    "use_bnn_pol = True\n",
    "\n",
    "# setup output directory\n",
    "utils.set_output_dir(os.path.join(utils.get_output_dir(), 'cartpole'))\n",
    "\n",
    "params = cartpole.default_params()\n",
    "n_rnd = 4                           # number of random initial trials\n",
    "n_opt = 100                         # learning iterations\n",
    "n_samples = 100                      # number of MC samples if bayesian nn\n",
    "H = params['max_steps']\n",
    "gamma = params['discount']\n",
    "angle_dims = params['angle_dims']\n",
    "\n",
    "# initial state distribution\n",
    "p0 = params['state0_dist']\n",
    "D = p0.mean.size"
   ]
  },
  {
   "cell_type": "code",
   "execution_count": 4,
   "metadata": {},
   "outputs": [
    {
     "name": "stdout",
     "output_type": "stream",
     "text": [
      "<class 'kusanagi.ghost.control.NNPolicy.NNPolicy'> True\n",
      "[2017-08-21 15:53:54.596750] Experience > Initialising new experience dataset\n"
     ]
    }
   ],
   "source": [
    "# init environment\n",
    "env = cartpole.Cartpole(**params['plant'])\n",
    "\n",
    "# init policy\n",
    "pol = control.NNPolicy(p0.mean, **params['policy'])\\\n",
    "    if use_bnn_pol else control.RBFPolicy(**params['policy'])\n",
    "randpol = control.RandPolicy(maxU=pol.maxU)\n",
    "\n",
    "# init dynmodel\n",
    "dyn = regression.BNN(**params['dynamics_model'])\\\n",
    "    if use_bnn_dyn else regression.SSGP_UI(**params['dynamics_model'])\n",
    "\n",
    "# init cost model\n",
    "cost = partial(cartpole.cartpole_loss, **params['cost'])\n",
    "\n",
    "# create experience dataset\n",
    "exp = ExperienceDataset()\n",
    "\n",
    "# init policy optimizer\n",
    "if use_bnn_dyn:\n",
    "    params['optimizer']['min_method'] = 'adam'\n",
    "    params['optimizer']['max_evals'] = 1000\n",
    "    polopt = SGDOptimizer(**params['optimizer'])\n",
    "else:\n",
    "    polopt = ScipyOptimizer(**params['optimizer'])"
   ]
  },
  {
   "cell_type": "code",
   "execution_count": 5,
   "metadata": {
    "scrolled": false
   },
   "outputs": [
    {
     "name": "stdout",
     "output_type": "stream",
     "text": [
      "[2017-08-21 15:53:54.700328] apply_controller > Starting run\n",
      "[2017-08-21 15:53:54.701683] apply_controller > Running for 4.000000 seconds\n"
     ]
    },
    {
     "name": "stderr",
     "output_type": "stream",
     "text": [
      "/home/juancamilog/miniconda3/lib/python3.6/site-packages/matplotlib/backend_bases.py:2453: MatplotlibDeprecationWarning: Using default event loop until function specific to this GUI is implemented\n",
      "  warnings.warn(str, mplDeprecation)\n"
     ]
    },
    {
     "name": "stdout",
     "output_type": "stream",
     "text": [
      "[2017-08-21 15:53:56.949565] apply_controller > Done. Stopping robot. Value of run [39.970387]\n",
      "[2017-08-21 15:53:56.950304] Cartpole > Stopping robot\n",
      "[2017-08-21 15:53:56.950919] apply_controller > Starting run\n",
      "[2017-08-21 15:53:56.951549] apply_controller > Running for 4.000000 seconds\n",
      "[2017-08-21 15:53:58.782368] apply_controller > Done. Stopping robot. Value of run [39.981068]\n",
      "[2017-08-21 15:53:58.783633] Cartpole > Stopping robot\n",
      "[2017-08-21 15:53:58.784458] apply_controller > Starting run\n",
      "[2017-08-21 15:53:58.785141] apply_controller > Running for 4.000000 seconds\n",
      "[2017-08-21 15:54:00.618789] apply_controller > Done. Stopping robot. Value of run [39.872932]\n",
      "[2017-08-21 15:54:00.619582] Cartpole > Stopping robot\n",
      "[2017-08-21 15:54:00.620432] apply_controller > Starting run\n",
      "[2017-08-21 15:54:00.621330] apply_controller > Running for 4.000000 seconds\n",
      "[2017-08-21 15:54:02.502119] apply_controller > Done. Stopping robot. Value of run [36.603050]\n",
      "[2017-08-21 15:54:02.502965] Cartpole > Stopping robot\n"
     ]
    }
   ],
   "source": [
    "# callback executed after every call to env.step\n",
    "def step_cb(state, action, cost, info):\n",
    "    exp.add_sample(state, action, cost, info)\n",
    "    env.render()\n",
    "\n",
    "def polopt_cb(*args, **kwargs):\n",
    "    if hasattr(dyn, 'update'):\n",
    "        dyn.update()\n",
    "    if hasattr(pol, 'update'):\n",
    "        pol.update()\n",
    "        \n",
    "    loss, dloss = args[:2]\n",
    "    grad_norms = [np.sqrt((d.__array__()**2).sum()) for d in dloss]\n",
    "    if sum(grad_norms) >  10.0*len(grad_norms):\n",
    "        print([np.sqrt((d.__array__()**2).sum()) for d in dloss])\n",
    "\n",
    "# function to execute before applying policy\n",
    "def gTrig(state):\n",
    "    return utils.gTrig_np(state, angle_dims).flatten()\n",
    "\n",
    "# during first n_rnd trials, apply randomized controls\n",
    "for i in range(n_rnd):\n",
    "    exp.new_episode()\n",
    "    apply_controller(env, randpol, H,\n",
    "                     preprocess=gTrig,\n",
    "                     callback=step_cb)"
   ]
  },
  {
   "cell_type": "code",
   "execution_count": null,
   "metadata": {
    "scrolled": true
   },
   "outputs": [
    {
     "name": "stdout",
     "output_type": "stream",
     "text": [
      "[2017-08-21 15:54:02.704634] ==== Iteration [1], experience: [160 steps] ====\n",
      "[2017-08-21 15:54:02.706006] train_dynamics > Training dynamics model\n",
      "[2017-08-21 15:54:02.710220] train_dynamics > Dataset size:: Inputs: [ (156, 6) ], Targets: [ (156, 4) ]  \n",
      "[2017-08-21 15:54:02.711703] BNN > Building network\n",
      "InputLayer {'shape': (None, 6), 'name': 'BNN_input'}\n",
      "DenseLayer {'num_units': 400, 'nonlinearity': <lasagne.nonlinearities.LeakyRectify object at 0x7f8d8ba49fd0>, 'W': <lasagne.init.Orthogonal object at 0x7f8d8b4e7128>, 'b': <lasagne.init.Constant object at 0x7f8d8b4e7198>, 'name': 'BNN_fc0'}\n",
      "DropoutLayer {'p': 0.05, 'rescale': False, 'name': 'BNN_drop0', 'n_samples': array(25, dtype=int32)}\n",
      "DenseLayer {'num_units': 400, 'nonlinearity': <lasagne.nonlinearities.LeakyRectify object at 0x7f8d8ba49fd0>, 'W': <lasagne.init.Orthogonal object at 0x7f8d8b4e7128>, 'b': <lasagne.init.Constant object at 0x7f8d8b4e7198>, 'name': 'BNN_fc1'}\n",
      "DropoutLayer {'p': 0.05, 'rescale': False, 'name': 'BNN_drop1', 'n_samples': array(25, dtype=int32)}\n",
      "DenseLayer {'num_units': 400, 'nonlinearity': <lasagne.nonlinearities.LeakyRectify object at 0x7f8d8ba49fd0>, 'W': <lasagne.init.Orthogonal object at 0x7f8d8b4e7128>, 'b': <lasagne.init.Constant object at 0x7f8d8b4e7198>, 'name': 'BNN_fc2'}\n",
      "DropoutLayer {'p': 0.05, 'rescale': False, 'name': 'BNN_drop2', 'n_samples': array(25, dtype=int32)}\n",
      "DenseLayer {'num_units': 8, 'nonlinearity': <function linear at 0x7f8d8ba52048>, 'W': <lasagne.init.Orthogonal object at 0x7f8d8b4e7128>, 'b': <lasagne.init.Constant object at 0x7f8d8b4e7198>, 'name': 'BNN_output'}\n",
      "[2017-08-21 15:54:02.798983] BNN > Initialising loss function\n",
      "[2017-08-21 15:54:03.535143] BNN_opt > Building computation graph for gradients\n",
      "[2017-08-21 15:54:03.638849] BNN_opt > Computing parameter update rules\n",
      "[2017-08-21 15:54:03.710086] BNN_opt > Compiling function for loss\n",
      "[2017-08-21 15:54:05.173569] BNN_opt > Compiling parameter updates\n",
      "[2017-08-21 15:54:08.203386] BNN_opt > Optimizing parameters via mini batches\n",
      "[2017-08-21 15:54:08.216647] BNN_opt > Initial loss [602.6853637695312]\n",
      "\u001b[2K[2017-08-21 15:54:16.870025] BNN_opt > Curr loss: -1.108791E+03, n_evals: 1000, Avg. time per updt: 0.007662\n",
      "[2017-08-21 15:54:16.884318] BNN_opt > Done training. New loss [-1167.923706] iter: [1001]\n",
      "[2017-08-21 15:54:16.884959] train_dynamics > Done training dynamics model\n",
      "[2017-08-21 15:54:17.185198] NNPolicy > Building network\n",
      "InputLayer {'shape': (None, 5), 'name': 'NNPolicy_input'}\n",
      "DenseLayer {'num_units': 100, 'nonlinearity': <function rectify at 0x7f8d8ba4fae8>, 'W': <lasagne.init.Orthogonal object at 0x7f8d8b4e7128>, 'b': <lasagne.init.Constant object at 0x7f8d8b4e7198>, 'name': 'NNPolicy_fc0'}\n",
      "DropoutLayer {'p': 0.05, 'rescale': False, 'name': 'NNPolicy_drop0', 'n_samples': array(100, dtype=int32)}\n",
      "DenseLayer {'num_units': 100, 'nonlinearity': <function rectify at 0x7f8d8ba4fae8>, 'W': <lasagne.init.Orthogonal object at 0x7f8d8b4e7128>, 'b': <lasagne.init.Constant object at 0x7f8d8b4e7198>, 'name': 'NNPolicy_fc1'}\n",
      "DropoutLayer {'p': 0.05, 'rescale': False, 'name': 'NNPolicy_drop1', 'n_samples': array(100, dtype=int32)}\n",
      "DenseLayer {'num_units': 1, 'nonlinearity': functools.partial(<function tanhSat at 0x7f8d8b4e4f28>, e=array([ 10.], dtype=float32)), 'W': <lasagne.init.Orthogonal object at 0x7f8d8b4e7128>, 'b': <lasagne.init.Constant object at 0x7f8d8b4e7198>, 'name': 'NNPolicy_output'}\n",
      "[2017-08-21 15:54:17.416324] mc_pilco.rollout > Building computation graph for state particles propagation\n",
      "[2017-08-21 15:54:17.847010] SGDOptimizer > Building computation graph for gradients\n",
      "[2017-08-21 15:54:19.025093] SGDOptimizer > Computing parameter update rules\n",
      "[2017-08-21 15:54:19.081139] SGDOptimizer > Compiling function for loss\n",
      "[2017-08-21 15:54:22.869286] SGDOptimizer > Compiling parameter updates\n",
      "[2017-08-21 15:54:35.647518] mc_pilco.rollout > Building computation graph for state particles propagation\n",
      "[2017-08-21 15:54:37.201385] SGDOptimizer > Optimizing parameters\n",
      "[2017-08-21 15:54:37.348184] SGDOptimizer > Initial loss [0.9999949932098389]\n",
      "\u001b[2K[2017-08-21 15:57:52.340033] SGDOptimizer > Curr loss: 3.603113E-01, n_evals: 1000, Avg. time per updt: 0.194209\n",
      "[2017-08-21 15:57:52.383606] SGDOptimizer > Done training. New loss [0.337519] iter: [978]\n",
      "[2017-08-21 15:57:52.384678] apply_controller > Starting run\n",
      "[2017-08-21 15:57:52.385436] apply_controller > Running for 4.000000 seconds\n",
      "[2017-08-21 15:57:52.386837] NNPolicy > Initialising expression graph for prediction\n",
      "[2017-08-21 15:57:52.500116] NNPolicy > Compiling mean and variance of prediction\n",
      "[2017-08-21 15:57:52.635501] NNPolicy > Done compiling\n"
     ]
    },
    {
     "name": "stderr",
     "output_type": "stream",
     "text": [
      "/home/juancamilog/miniconda3/lib/python3.6/site-packages/matplotlib/backend_bases.py:2453: MatplotlibDeprecationWarning: Using default event loop until function specific to this GUI is implemented\n",
      "  warnings.warn(str, mplDeprecation)\n"
     ]
    },
    {
     "name": "stdout",
     "output_type": "stream",
     "text": [
      "[2017-08-21 15:57:54.590651] apply_controller > Done. Stopping robot. Value of run [35.700150]\n",
      "[2017-08-21 15:57:54.591372] Cartpole > Stopping robot\n",
      "[2017-08-21 15:57:55.906659] ==== Iteration [2], experience: [200 steps] ====\n",
      "[2017-08-21 15:57:55.908852] train_dynamics > Training dynamics model\n",
      "[2017-08-21 15:57:55.916950] train_dynamics > Dataset size:: Inputs: [ (195, 6) ], Targets: [ (195, 4) ]  \n",
      "[2017-08-21 15:57:55.919453] BNN_opt > Optimizing parameters via mini batches\n",
      "[2017-08-21 15:57:55.932008] BNN_opt > Initial loss [24550.40625]\n",
      "\u001b[2K[2017-08-21 15:58:05.119442] BNN_opt > Curr loss: -1.026616E+03, n_evals: 1000, Avg. time per updt: 0.008162\n",
      "[2017-08-21 15:58:05.136985] BNN_opt > Done training. New loss [-1026.722656] iter: [1001]\n",
      "[2017-08-21 15:58:05.138145] train_dynamics > Done training dynamics model\n",
      "[2017-08-21 15:58:06.233402] SGDOptimizer > Optimizing parameters\n",
      "[2017-08-21 15:58:06.381446] SGDOptimizer > Initial loss [0.39913201332092285]\n",
      "\u001b[2K[2017-08-21 16:01:01.253046] SGDOptimizer > Curr loss: 3.753034E-01, n_evals: 1000, Avg. time per updt: 0.174154\n",
      "[2017-08-21 16:01:01.299676] SGDOptimizer > Done training. New loss [0.363300] iter: [789]\n",
      "[2017-08-21 16:01:01.300736] apply_controller > Starting run\n",
      "[2017-08-21 16:01:01.301429] apply_controller > Running for 4.000000 seconds\n",
      "[2017-08-21 16:01:03.317893] apply_controller > Done. Stopping robot. Value of run [37.606506]\n",
      "[2017-08-21 16:01:03.318605] Cartpole > Stopping robot\n",
      "[2017-08-21 16:01:04.399589] ==== Iteration [3], experience: [240 steps] ====\n",
      "[2017-08-21 16:01:04.400373] train_dynamics > Training dynamics model\n",
      "[2017-08-21 16:01:04.402441] train_dynamics > Dataset size:: Inputs: [ (234, 6) ], Targets: [ (234, 4) ]  \n",
      "[2017-08-21 16:01:04.403233] BNN_opt > Optimizing parameters via mini batches\n",
      "[2017-08-21 16:01:04.412646] BNN_opt > Initial loss [-976.623046875]\n",
      "\u001b[2K[2017-08-21 16:01:14.439461] BNN_opt > Curr loss: -1.078148E+03, n_evals: 1000, Avg. time per updt: 0.008854\n",
      "[2017-08-21 16:01:14.454914] BNN_opt > Done training. New loss [-1090.132202] iter: [1001]\n",
      "[2017-08-21 16:01:14.455836] train_dynamics > Done training dynamics model\n",
      "[2017-08-21 16:01:15.510091] SGDOptimizer > Optimizing parameters\n",
      "[2017-08-21 16:01:15.696457] SGDOptimizer > Initial loss [0.40401795506477356]\n",
      "\u001b[2K[2017-08-21 16:04:06.533016] SGDOptimizer > Curr loss: 3.507779E-01, n_evals: 1000, Avg. time per updt: 0.170139\n",
      "[2017-08-21 16:04:06.581472] SGDOptimizer > Done training. New loss [0.324141] iter: [913]\n",
      "[2017-08-21 16:04:06.582504] apply_controller > Starting run\n",
      "[2017-08-21 16:04:06.583236] apply_controller > Running for 4.000000 seconds\n",
      "[2017-08-21 16:04:11.937029] apply_controller > Done. Stopping robot. Value of run [14.746122]\n",
      "[2017-08-21 16:04:11.937727] Cartpole > Stopping robot\n",
      "[2017-08-21 16:04:12.995058] ==== Iteration [4], experience: [280 steps] ====\n",
      "[2017-08-21 16:04:12.995962] train_dynamics > Training dynamics model\n",
      "[2017-08-21 16:04:12.998234] train_dynamics > Dataset size:: Inputs: [ (273, 6) ], Targets: [ (273, 4) ]  \n",
      "[2017-08-21 16:04:12.999141] BNN_opt > Optimizing parameters via mini batches\n",
      "[2017-08-21 16:04:13.009869] BNN_opt > Initial loss [-1037.6279296875]\n",
      "\u001b[2K[2017-08-21 16:04:23.077233] BNN_opt > Curr loss: -1.123495E+03, n_evals: 1000, Avg. time per updt: 0.008901\n",
      "[2017-08-21 16:04:23.093174] BNN_opt > Done training. New loss [-1159.603027] iter: [1001]\n",
      "[2017-08-21 16:04:23.095140] train_dynamics > Done training dynamics model\n",
      "[2017-08-21 16:04:24.875607] SGDOptimizer > Optimizing parameters\n",
      "[2017-08-21 16:04:25.057060] SGDOptimizer > Initial loss [0.36815986037254333]\n",
      "\u001b[2K[2017-08-21 16:05:59.115025] SGDOptimizer > Curr loss: 3.490731E-01, n_evals: 524, Avg. time per updt: 0.178775"
     ]
    }
   ],
   "source": [
    "# PILCO loop\n",
    "rollout_fn = None\n",
    "fig, axarr = None, None\n",
    "for i in range(n_opt):\n",
    "    total_exp = sum([len(st) for st in exp.states])\n",
    "    msg = '==== Iteration [%d], experience: [%d steps] ===='\n",
    "    utils.print_with_stamp(msg % (i+1, total_exp))\n",
    "\n",
    "    # train dynamics model\n",
    "    train_dynamics(dyn, exp, angle_dims=angle_dims)\n",
    "\n",
    "    # initial state distribution\n",
    "    x0 = np.array([st[0] for st in exp.states])\n",
    "    m0 = x0.mean(0)\n",
    "    S0 = np.cov(x0, rowvar=False, ddof=1) +\\\n",
    "        1e-4*np.eye(x0.shape[1]) if len(x0) > 2 else p0.cov\n",
    "\n",
    "    if fig is not None:\n",
    "        # plot rollout\n",
    "        fig, axarr = plot_rollout(\n",
    "            rollout_fn, m0, S0, H, gamma, fig=fig, axarr=axarr)\n",
    "\n",
    "    # train policy\n",
    "    if polopt.loss_fn is None or dyn.should_recompile:\n",
    "        loss_kwargs = {}\n",
    "        obj_kwargs = {}\n",
    "        extra_inps = []\n",
    "        if use_bnn_dyn:\n",
    "            # init learning rate parameter\n",
    "            lr = theano.tensor.scalar('lr')\n",
    "            extra_inps += [lr]\n",
    "\n",
    "            # parameters for building loss function\n",
    "            loss_kwargs['n_samples'] = n_samples\n",
    "            loss_kwargs['resample_particles'] = True\n",
    "            obj_kwargs['learning_rate'] = lr\n",
    "            obj_kwargs['clip'] = 10.0\n",
    "            learner = mc_pilco\n",
    "        else:\n",
    "            learner = pilco\n",
    "\n",
    "        # build loss function\n",
    "        loss, inps, updts = learner.get_loss(\n",
    "            pol, dyn, cost, D, angle_dims, **loss_kwargs)\n",
    "        inps += extra_inps\n",
    "\n",
    "        # set objective of policy optimizer\n",
    "        polopt.set_objective(loss, pol.get_params(symbolic=True),\n",
    "                             inps, updts, **obj_kwargs)\n",
    "\n",
    "        # build rollout function for plotting\n",
    "        if rollout_fn is None:\n",
    "            loss_kwargs['resample_particles'] = False\n",
    "            rollout_fn = learner.build_rollout(\n",
    "                pol, dyn, cost, D, angle_dims, **loss_kwargs)\n",
    "\n",
    "    polopt_args = [m0, S0, H, gamma]\n",
    "    if use_bnn_dyn:\n",
    "        polopt_args.append(1e-3)\n",
    "    polopt.minimize(*polopt_args,\n",
    "                    callback=polopt_cb)\n",
    "\n",
    "    # apply controller\n",
    "    exp.new_episode(policy_params=pol.get_params())\n",
    "    apply_controller(env, pol, H,\n",
    "                     preprocess=gTrig, callback=step_cb)\n",
    "\n",
    "    # plot rollout\n",
    "    fig, axarr = plot_rollout(\n",
    "        rollout_fn, m0, S0, H, gamma, fig=fig, axarr=axarr)\n",
    "input('Finished training')"
   ]
  },
  {
   "cell_type": "code",
   "execution_count": null,
   "metadata": {
    "collapsed": true
   },
   "outputs": [],
   "source": []
  },
  {
   "cell_type": "code",
   "execution_count": null,
   "metadata": {
    "collapsed": true
   },
   "outputs": [],
   "source": []
  }
 ],
 "metadata": {
  "kernelspec": {
   "display_name": "Python 2",
   "language": "python",
   "name": "python2"
  },
  "language_info": {
   "codemirror_mode": {
    "name": "ipython",
    "version": 3
   },
   "file_extension": ".py",
   "mimetype": "text/x-python",
   "name": "python",
   "nbconvert_exporter": "python",
   "pygments_lexer": "ipython3",
   "version": "3.6.2"
  }
 },
 "nbformat": 4,
 "nbformat_minor": 2
}
