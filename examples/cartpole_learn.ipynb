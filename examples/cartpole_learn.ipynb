{
 "cells": [
  {
   "cell_type": "code",
   "execution_count": 1,
   "metadata": {
    "collapsed": true
   },
   "outputs": [],
   "source": [
    " %matplotlib tk\n",
    "import os\n",
    "import sys\n",
    "import numpy as np\n",
    "import theano\n",
    "\n",
    "from kusanagi.ghost import control\n",
    "from kusanagi.ghost import regression\n",
    "from kusanagi.shell import cartpole\n",
    "from kusanagi.ghost.algorithms import pilco, mc_pilco\n",
    "from kusanagi.ghost.optimizers import ScipyOptimizer, SGDOptimizer\n",
    "from kusanagi.base import apply_controller, train_dynamics, ExperienceDataset\n",
    "from kusanagi import utils\n",
    "from functools import partial\n",
    "from matplotlib import pyplot as plt\n",
    "\n",
    "# np.random.seed(1337)\n",
    "np.set_printoptions(linewidth=500)"
   ]
  },
  {
   "cell_type": "code",
   "execution_count": 2,
   "metadata": {
    "collapsed": true
   },
   "outputs": [],
   "source": [
    "def plot_rollout(rollout_fn, *args, **kwargs):\n",
    "    fig = kwargs.get('fig')\n",
    "    axarr = kwargs.get('axarr')\n",
    "    loss, costs, trajectories = rollout_fn(*args)\n",
    "    n_samples, T, dims = trajectories.shape\n",
    "\n",
    "    if fig is None or axarr is None:\n",
    "        fig, axarr = plt.subplots(dims, sharex=True)\n",
    "    exp_states = np.array(exp.states)\n",
    "    for d in range(dims):\n",
    "        axarr[d].clear()\n",
    "        st = trajectories[:, :, d]\n",
    "        # plot predictive distribution\n",
    "        for i in range(n_samples):\n",
    "            axarr[d].plot(\n",
    "                np.arange(T-1), st[i, :-1], color='steelblue', alpha=0.3)\n",
    "        # for i in range(len(exp.states)):\n",
    "        #    axarr[d].plot(\n",
    "        #         np.arange(T-1), exp_states[i,1:,d],\n",
    "        #         color='orange', alpha=0.3)\n",
    "        # plot experience\n",
    "        axarr[d].plot(\n",
    "            np.arange(T-1), np.array(exp.states[-1])[1:H, d], color='red')\n",
    "        axarr[d].plot(\n",
    "            np.arange(T-1), st[:, :-1].mean(0), color='purple')\n",
    "    plt.show(block=False)\n",
    "    plt.waitforbuttonpress(0.1)\n",
    "\n",
    "    return fig, axarr"
   ]
  },
  {
   "cell_type": "code",
   "execution_count": 3,
   "metadata": {
    "collapsed": true
   },
   "outputs": [],
   "source": [
    "use_bnn_dyn = True\n",
    "use_bnn_pol = True\n",
    "\n",
    "# setup output directory\n",
    "utils.set_output_dir(os.path.join(utils.get_output_dir(), 'cartpole'))\n",
    "\n",
    "params = cartpole.default_params()\n",
    "n_rnd = 4                           # number of random initial trials\n",
    "n_opt = 100                         # learning iterations\n",
    "n_samples = 50                      # number of MC samples if bayesian nn\n",
    "H = params['max_steps']\n",
    "gamma = params['discount']\n",
    "angle_dims = params['angle_dims']\n",
    "\n",
    "# initial state distribution\n",
    "p0 = params['state0_dist']\n",
    "D = p0.mean.size"
   ]
  },
  {
   "cell_type": "code",
   "execution_count": 4,
   "metadata": {},
   "outputs": [
    {
     "name": "stdout",
     "output_type": "stream",
     "text": [
      "<class 'kusanagi.ghost.control.NNPolicy.NNPolicy'> True\n",
      "[2017-08-21 18:41:32.638333] Experience > Initialising new experience dataset\n"
     ]
    }
   ],
   "source": [
    "# init environment\n",
    "env = cartpole.Cartpole(**params['plant'])\n",
    "\n",
    "# init policy\n",
    "pol = control.NNPolicy(p0.mean, **params['policy'])\\\n",
    "    if use_bnn_pol else control.RBFPolicy(**params['policy'])\n",
    "randpol = control.RandPolicy(maxU=pol.maxU)\n",
    "\n",
    "# init dynmodel\n",
    "dyn = regression.BNN(**params['dynamics_model'])\\\n",
    "    if use_bnn_dyn else regression.SSGP_UI(**params['dynamics_model'])\n",
    "\n",
    "# init cost model\n",
    "cost = partial(cartpole.cartpole_loss, **params['cost'])\n",
    "\n",
    "# create experience dataset\n",
    "exp = ExperienceDataset()\n",
    "\n",
    "# init policy optimizer\n",
    "if use_bnn_dyn:\n",
    "    params['optimizer']['min_method'] = 'adam'\n",
    "    params['optimizer']['max_evals'] = 1000\n",
    "    polopt = SGDOptimizer(**params['optimizer'])\n",
    "else:\n",
    "    polopt = ScipyOptimizer(**params['optimizer'])"
   ]
  },
  {
   "cell_type": "code",
   "execution_count": 5,
   "metadata": {
    "scrolled": false
   },
   "outputs": [
    {
     "name": "stdout",
     "output_type": "stream",
     "text": [
      "[2017-08-21 18:41:32.733976] apply_controller > Starting run\n",
      "[2017-08-21 18:41:32.734848] apply_controller > Running for 4.000000 seconds\n"
     ]
    },
    {
     "name": "stderr",
     "output_type": "stream",
     "text": [
      "/home/juancamilog/miniconda3/lib/python3.6/site-packages/matplotlib/backend_bases.py:2453: MatplotlibDeprecationWarning: Using default event loop until function specific to this GUI is implemented\n",
      "  warnings.warn(str, mplDeprecation)\n"
     ]
    },
    {
     "name": "stdout",
     "output_type": "stream",
     "text": [
      "[2017-08-21 18:41:35.035278] apply_controller > Done. Stopping robot. Value of run [39.664642]\n",
      "[2017-08-21 18:41:35.036112] Cartpole > Stopping robot\n",
      "[2017-08-21 18:41:35.036848] apply_controller > Starting run\n",
      "[2017-08-21 18:41:35.037509] apply_controller > Running for 4.000000 seconds\n",
      "[2017-08-21 18:41:37.029974] apply_controller > Done. Stopping robot. Value of run [39.989006]\n",
      "[2017-08-21 18:41:37.030607] Cartpole > Stopping robot\n",
      "[2017-08-21 18:41:37.031286] apply_controller > Starting run\n",
      "[2017-08-21 18:41:37.032009] apply_controller > Running for 4.000000 seconds\n",
      "[2017-08-21 18:41:39.029950] apply_controller > Done. Stopping robot. Value of run [39.978142]\n",
      "[2017-08-21 18:41:39.030814] Cartpole > Stopping robot\n",
      "[2017-08-21 18:41:39.031749] apply_controller > Starting run\n",
      "[2017-08-21 18:41:39.032449] apply_controller > Running for 4.000000 seconds\n",
      "[2017-08-21 18:41:41.048940] apply_controller > Done. Stopping robot. Value of run [39.996483]\n",
      "[2017-08-21 18:41:41.050321] Cartpole > Stopping robot\n"
     ]
    }
   ],
   "source": [
    "# callback executed after every call to env.step\n",
    "def step_cb(state, action, cost, info):\n",
    "    exp.add_sample(state, action, cost, info)\n",
    "    env.render()\n",
    "\n",
    "def polopt_cb(*args, **kwargs):\n",
    "    if hasattr(dyn, 'update'):\n",
    "        dyn.update()\n",
    "    if hasattr(pol, 'update'):\n",
    "        pol.update()\n",
    "        \n",
    "    loss, dloss = args[:2]\n",
    "    grad_norms = [np.sqrt((d.__array__()**2).sum()) for d in dloss]\n",
    "    if sum(grad_norms) >  10.0*len(grad_norms):\n",
    "        print([np.sqrt((d.__array__()**2).sum()) for d in dloss])\n",
    "\n",
    "# function to execute before applying policy\n",
    "def gTrig(state):\n",
    "    return utils.gTrig_np(state, angle_dims).flatten()\n",
    "\n",
    "# during first n_rnd trials, apply randomized controls\n",
    "for i in range(n_rnd):\n",
    "    exp.new_episode()\n",
    "    apply_controller(env, randpol, H,\n",
    "                     preprocess=gTrig,\n",
    "                     callback=step_cb)"
   ]
  },
  {
   "cell_type": "code",
   "execution_count": null,
   "metadata": {
    "scrolled": true
   },
   "outputs": [
    {
     "name": "stdout",
     "output_type": "stream",
     "text": [
      "[2017-08-21 18:41:41.239804] ==== Iteration [1], experience: [160 steps] ====\n",
      "[2017-08-21 18:41:41.241125] train_dynamics > Training dynamics model\n",
      "[2017-08-21 18:41:41.246082] train_dynamics > Dataset size:: Inputs: [ (156, 6) ], Targets: [ (156, 4) ]  \n",
      "[2017-08-21 18:41:41.247390] BNN > Building network\n",
      "InputLayer {'shape': (None, 6), 'name': 'BNN_input'}\n",
      "DenseLayer {'num_units': 400, 'nonlinearity': <lasagne.nonlinearities.LeakyRectify object at 0x7f12f2966048>, 'W': <lasagne.init.Orthogonal object at 0x7f12f25d2160>, 'b': <lasagne.init.Constant object at 0x7f12f25d21d0>, 'name': 'BNN_fc0'}\n",
      "DropoutLayer {'p': 0.05, 'rescale': False, 'name': 'BNN_drop0', 'n_samples': array(25, dtype=int32)}\n",
      "DenseLayer {'num_units': 400, 'nonlinearity': <lasagne.nonlinearities.LeakyRectify object at 0x7f12f2966048>, 'W': <lasagne.init.Orthogonal object at 0x7f12f25d2160>, 'b': <lasagne.init.Constant object at 0x7f12f25d21d0>, 'name': 'BNN_fc1'}\n",
      "DropoutLayer {'p': 0.05, 'rescale': False, 'name': 'BNN_drop1', 'n_samples': array(25, dtype=int32)}\n",
      "DenseLayer {'num_units': 400, 'nonlinearity': <lasagne.nonlinearities.LeakyRectify object at 0x7f12f2966048>, 'W': <lasagne.init.Orthogonal object at 0x7f12f25d2160>, 'b': <lasagne.init.Constant object at 0x7f12f25d21d0>, 'name': 'BNN_fc2'}\n",
      "DropoutLayer {'p': 0.05, 'rescale': False, 'name': 'BNN_drop2', 'n_samples': array(25, dtype=int32)}\n",
      "DenseLayer {'num_units': 8, 'nonlinearity': <function linear at 0x7f12f2967048>, 'W': <lasagne.init.Orthogonal object at 0x7f12f25d2160>, 'b': <lasagne.init.Constant object at 0x7f12f25d21d0>, 'name': 'BNN_output'}\n",
      "[2017-08-21 18:41:41.334187] BNN > Initialising loss function\n",
      "[2017-08-21 18:41:42.040312] BNN_opt > Building computation graph for gradients\n",
      "[2017-08-21 18:41:42.147817] BNN_opt > Computing parameter update rules\n",
      "[2017-08-21 18:41:42.221410] BNN_opt > Compiling function for loss\n",
      "[2017-08-21 18:41:43.705176] BNN_opt > Compiling parameter updates\n",
      "[2017-08-21 18:41:46.892922] BNN_opt > Optimizing parameters via mini batches\n",
      "[2017-08-21 18:41:46.912987] BNN_opt > Initial loss [600.3973999023438]\n",
      "\u001b[2K[2017-08-21 18:41:56.415965] BNN_opt > Curr loss: -9.731279E+02 [999: -9.731279E+02], n_evals: 1000, Avg. time per updt: 0.008584\n",
      "[2017-08-21 18:41:56.430534] BNN_opt > Done training. New loss [-961.936523] iter: [999]\n",
      "[2017-08-21 18:41:56.431779] train_dynamics > Done training dynamics model\n",
      "[2017-08-21 18:41:56.682562] NNPolicy > Building network\n",
      "InputLayer {'shape': (None, 5), 'name': 'NNPolicy_input'}\n",
      "DenseLayer {'num_units': 100, 'nonlinearity': <function rectify at 0x7f12f2964ae8>, 'W': <lasagne.init.Orthogonal object at 0x7f12f25d2160>, 'b': <lasagne.init.Constant object at 0x7f12f25d21d0>, 'name': 'NNPolicy_fc0'}\n",
      "DropoutLayer {'p': 0.05, 'rescale': False, 'name': 'NNPolicy_drop0', 'n_samples': array(50, dtype=int32)}\n",
      "DenseLayer {'num_units': 100, 'nonlinearity': <function rectify at 0x7f12f2964ae8>, 'W': <lasagne.init.Orthogonal object at 0x7f12f25d2160>, 'b': <lasagne.init.Constant object at 0x7f12f25d21d0>, 'name': 'NNPolicy_fc1'}\n",
      "DropoutLayer {'p': 0.05, 'rescale': False, 'name': 'NNPolicy_drop1', 'n_samples': array(50, dtype=int32)}\n",
      "DenseLayer {'num_units': 1, 'nonlinearity': functools.partial(<function tanhSat at 0x7f12f25cff28>, e=array([ 10.], dtype=float32)), 'W': <lasagne.init.Orthogonal object at 0x7f12f25d2160>, 'b': <lasagne.init.Constant object at 0x7f12f25d21d0>, 'name': 'NNPolicy_output'}\n",
      "[2017-08-21 18:41:56.994242] mc_pilco.rollout > Building computation graph for state particles propagation\n",
      "[2017-08-21 18:41:57.950137] SGDOptimizer > Building computation graph for gradients\n",
      "[2017-08-21 18:41:58.589297] SGDOptimizer > Computing parameter update rules\n",
      "[2017-08-21 18:41:58.641952] SGDOptimizer > Compiling function for loss\n",
      "[2017-08-21 18:42:02.509423] SGDOptimizer > Compiling parameter updates\n",
      "[2017-08-21 18:42:15.804991] mc_pilco.rollout > Building computation graph for state particles propagation\n",
      "[2017-08-21 18:42:17.428482] SGDOptimizer > Optimizing parameters\n",
      "[2017-08-21 18:42:17.587575] SGDOptimizer > Initial loss [0.9999946355819702]\n",
      "\u001b[2K[2017-08-21 18:44:43.769593] SGDOptimizer > Curr loss: 9.100661E-01 [988: 8.761641E-01], n_evals: 999, Avg. time per updt: 0.145608\n",
      "[2017-08-21 18:44:43.807883] SGDOptimizer > Done training. New loss [0.869393] iter: [988]\n",
      "[2017-08-21 18:44:43.808813] apply_controller > Starting run\n",
      "[2017-08-21 18:44:43.809448] apply_controller > Running for 4.000000 seconds\n",
      "[2017-08-21 18:44:43.810489] NNPolicy > Initialising expression graph for prediction\n",
      "[2017-08-21 18:44:43.905517] NNPolicy > Compiling mean and variance of prediction\n",
      "[2017-08-21 18:44:44.026382] NNPolicy > Done compiling\n"
     ]
    },
    {
     "name": "stderr",
     "output_type": "stream",
     "text": [
      "/home/juancamilog/miniconda3/lib/python3.6/site-packages/matplotlib/backend_bases.py:2453: MatplotlibDeprecationWarning: Using default event loop until function specific to this GUI is implemented\n",
      "  warnings.warn(str, mplDeprecation)\n"
     ]
    },
    {
     "name": "stdout",
     "output_type": "stream",
     "text": [
      "[2017-08-21 18:44:45.838853] apply_controller > Done. Stopping robot. Value of run [27.532969]\n",
      "[2017-08-21 18:44:45.839659] Cartpole > Stopping robot\n",
      "[2017-08-21 18:44:46.817714] ==== Iteration [2], experience: [200 steps] ====\n",
      "[2017-08-21 18:44:46.818514] train_dynamics > Training dynamics model\n",
      "[2017-08-21 18:44:46.820666] train_dynamics > Dataset size:: Inputs: [ (195, 6) ], Targets: [ (195, 4) ]  \n",
      "[2017-08-21 18:44:46.822176] BNN_opt > Optimizing parameters via mini batches\n",
      "[2017-08-21 18:44:46.838420] BNN_opt > Initial loss [2674.833251953125]\n",
      "\u001b[2K[2017-08-21 18:44:57.053801] BNN_opt > Curr loss: -9.706353E+02 [941: -9.752516E+02], n_evals: 1000, Avg. time per updt: 0.009239\n",
      "[2017-08-21 18:44:57.072239] BNN_opt > Done training. New loss [-988.983337] iter: [941]\n",
      "[2017-08-21 18:44:57.073032] train_dynamics > Done training dynamics model\n",
      "[2017-08-21 18:44:57.808425] SGDOptimizer > Optimizing parameters\n",
      "[2017-08-21 18:44:57.997725] SGDOptimizer > Initial loss [0.88953697681427]\n",
      "\u001b[2K[2017-08-21 18:47:08.595786] SGDOptimizer > Curr loss: 9.153587E-01 [9: 8.926778E-01], n_evals: 999, Avg. time per updt: 0.130049\n",
      "[2017-08-21 18:47:08.638261] SGDOptimizer > Done training. New loss [0.913862] iter: [9]\n",
      "[2017-08-21 18:47:08.639228] apply_controller > Starting run\n",
      "[2017-08-21 18:47:08.640262] apply_controller > Running for 4.000000 seconds\n",
      "[2017-08-21 18:47:13.064230] apply_controller > Done. Stopping robot. Value of run [32.136688]\n",
      "[2017-08-21 18:47:13.064930] Cartpole > Stopping robot\n",
      "[2017-08-21 18:47:13.805404] ==== Iteration [3], experience: [240 steps] ====\n",
      "[2017-08-21 18:47:13.806274] train_dynamics > Training dynamics model\n",
      "[2017-08-21 18:47:13.811361] train_dynamics > Dataset size:: Inputs: [ (234, 6) ], Targets: [ (234, 4) ]  \n",
      "[2017-08-21 18:47:13.812140] BNN_opt > Optimizing parameters via mini batches\n",
      "[2017-08-21 18:47:13.826965] BNN_opt > Initial loss [-720.8766479492188]\n",
      "\u001b[2K[2017-08-21 18:47:25.141560] BNN_opt > Curr loss: -1.034077E+03 [995: -1.039786E+03], n_evals: 1000, Avg. time per updt: 0.010219\n",
      "[2017-08-21 18:47:25.161129] BNN_opt > Done training. New loss [-1053.619873] iter: [995]\n",
      "[2017-08-21 18:47:25.166796] train_dynamics > Done training dynamics model\n",
      "[2017-08-21 18:47:25.959643] SGDOptimizer > Optimizing parameters\n",
      "[2017-08-21 18:47:26.139880] SGDOptimizer > Initial loss [0.890779972076416]\n",
      "\u001b[2K[2017-08-21 18:47:59.126496] SGDOptimizer > Curr loss: 9.227883E-01 [218: 8.987823E-01], n_evals: 253, Avg. time per updt: 0.129702"
     ]
    }
   ],
   "source": [
    "# PILCO loop\n",
    "rollout_fn = None\n",
    "fig, axarr = None, None\n",
    "for i in range(n_opt):\n",
    "    total_exp = sum([len(st) for st in exp.states])\n",
    "    msg = '==== Iteration [%d], experience: [%d steps] ===='\n",
    "    utils.print_with_stamp(msg % (i+1, total_exp))\n",
    "\n",
    "    # train dynamics model\n",
    "    train_dynamics(dyn, exp, angle_dims=angle_dims)\n",
    "\n",
    "    # initial state distribution\n",
    "    x0 = np.array([st[0] for st in exp.states])\n",
    "    m0 = x0.mean(0)\n",
    "    S0 = np.cov(x0, rowvar=False, ddof=1) +\\\n",
    "        1e-4*np.eye(x0.shape[1]) if len(x0) > 2 else p0.cov\n",
    "\n",
    "    if fig is not None:\n",
    "        # plot rollout\n",
    "        fig, axarr = plot_rollout(\n",
    "            rollout_fn, m0, S0, H, gamma, fig=fig, axarr=axarr)\n",
    "\n",
    "    # train policy\n",
    "    if polopt.loss_fn is None or dyn.should_recompile:\n",
    "        loss_kwargs = {}\n",
    "        obj_kwargs = {}\n",
    "        extra_inps = []\n",
    "        if use_bnn_dyn:\n",
    "            # init learning rate parameter\n",
    "            lr = theano.tensor.scalar('lr')\n",
    "            extra_inps += [lr]\n",
    "\n",
    "            # parameters for building loss function\n",
    "            loss_kwargs['n_samples'] = n_samples\n",
    "            loss_kwargs['resample_particles'] = True\n",
    "            obj_kwargs['learning_rate'] = lr\n",
    "            obj_kwargs['clip'] = 10.0\n",
    "            learner = mc_pilco\n",
    "        else:\n",
    "            learner = pilco\n",
    "\n",
    "        # build loss function\n",
    "        loss, inps, updts = learner.get_loss(\n",
    "            pol, dyn, cost, D, angle_dims, **loss_kwargs)\n",
    "        inps += extra_inps\n",
    "\n",
    "        # set objective of policy optimizer\n",
    "        polopt.set_objective(loss, pol.get_params(symbolic=True),\n",
    "                             inps, updts, **obj_kwargs)\n",
    "\n",
    "        # build rollout function for plotting\n",
    "        if rollout_fn is None:\n",
    "            loss_kwargs['resample_particles'] = False\n",
    "            rollout_fn = learner.build_rollout(\n",
    "                pol, dyn, cost, D, angle_dims, **loss_kwargs)\n",
    "\n",
    "    polopt_args = [m0, S0, H, gamma]\n",
    "    if use_bnn_dyn:\n",
    "        polopt_args.append(1e-3)\n",
    "    polopt.minimize(*polopt_args,\n",
    "                    callback=polopt_cb)\n",
    "\n",
    "    # apply controller\n",
    "    exp.new_episode(policy_params=pol.get_params())\n",
    "    apply_controller(env, pol, H,\n",
    "                     preprocess=gTrig, callback=step_cb)\n",
    "\n",
    "    # plot rollout\n",
    "    fig, axarr = plot_rollout(\n",
    "        rollout_fn, m0, S0, H, gamma, fig=fig, axarr=axarr)\n",
    "input('Finished training')"
   ]
  },
  {
   "cell_type": "code",
   "execution_count": null,
   "metadata": {
    "collapsed": true
   },
   "outputs": [],
   "source": []
  },
  {
   "cell_type": "code",
   "execution_count": null,
   "metadata": {
    "collapsed": true
   },
   "outputs": [],
   "source": []
  }
 ],
 "metadata": {
  "kernelspec": {
   "display_name": "Python 2",
   "language": "python",
   "name": "python2"
  },
  "language_info": {
   "codemirror_mode": {
    "name": "ipython",
    "version": 3
   },
   "file_extension": ".py",
   "mimetype": "text/x-python",
   "name": "python",
   "nbconvert_exporter": "python",
   "pygments_lexer": "ipython3",
   "version": "3.6.2"
  }
 },
 "nbformat": 4,
 "nbformat_minor": 2
}
