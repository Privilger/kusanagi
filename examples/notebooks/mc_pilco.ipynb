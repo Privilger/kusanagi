{
 "cells": [
  {
   "cell_type": "code",
   "execution_count": 1,
   "metadata": {},
   "outputs": [],
   "source": [
    "%load_ext autoreload\n",
    "%autoreload 2\n",
    "'''\n",
    "Example of how to use the library for learning using the PILCO learner on the cartpole task\n",
    "'''\n",
    "# pylint: disable=C0103\n",
    "import atexit\n",
    "import sys\n",
    "import os\n",
    "import numpy as np\n",
    "import kusanagi.ghost.regression as kreg\n",
    "\n",
    "from kusanagi import utils\n",
    "from kusanagi.shell.cartpole import default_params\n",
    "from kusanagi.ghost.learners.PILCO import PILCO, MC_PILCO\n",
    "from kusanagi.ghost.control import NNPolicy\n",
    "from kusanagi.utils import plot_results\n",
    "\n",
    "#np.random.seed(31337)\n",
    "np.set_printoptions(linewidth=500)"
   ]
  },
  {
   "cell_type": "code",
   "execution_count": null,
   "metadata": {
    "scrolled": true
   },
   "outputs": [
    {
     "name": "stdout",
     "output_type": "stream",
     "text": [
      "[2017-05-18 19:50:39.986612] RBFPolicy_sat > Initializing parameters\n",
      "[2017-05-18 19:50:40.000461] RBFPolicy_sat > Initialising expression graph for full GP training loss function\n",
      "[2017-05-18 19:50:40.244307] RBFPolicy_sat > Initialising expression graph for prediction\n",
      "[2017-05-18 19:50:40.264631] RBFPolicy_sat > Compiling mean and variance of prediction\n",
      "[2017-05-18 19:50:43.326503] RBFPolicy_sat > Done compiling\n",
      "[2017-05-18 19:50:43.331933] Experience > Initialising new experience dataset\n",
      "[2017-05-18 19:50:43.334386] PILCO > Initialising new PILCO learner\n",
      "<class 'kusanagi.ghost.control.control_.NNPolicy'> True\n",
      "[2017-05-18 19:50:43.341667] Experience > Initialising new experience dataset\n",
      "[2017-05-18 19:50:43.342650] MC_PILCO > Initialising new MC_PILCO learner\n",
      "[2017-05-18 19:50:43.346530] Cartpole > Reset to inital state\n",
      "[2017-05-18 19:50:43.347631] PILCO > Compiling cost function\n",
      "[2017-05-18 19:50:43.348472] PILCO > Cost parameters: {'target': [0, 0, 0, 3.141592653589793], 'width': 0.25, 'expl': 0.0, 'pendulum_length': 0.6, 'angle_dims': [3]}\n",
      "[2017-05-18 19:50:43.533486] PILCO > Applying controls uniformly at random\n",
      "[2017-05-18 19:50:43.534805] PILCO > Starting data collection run\n",
      "[2017-05-18 19:50:43.535886] PILCO > Running for 4.000000 seconds\n",
      "[2017-05-18 19:50:43.843196] PILCO > Done. Stopping robot. Value of run [39.999826]\n",
      "[2017-05-18 19:50:43.844036] Cartpole > Stopped plant loop\n",
      "[2017-05-18 19:50:43.844681] Cartpole > Reset to inital state\n",
      "[2017-05-18 19:50:43.845598] PILCO > Applying controls uniformly at random\n",
      "[2017-05-18 19:50:43.846395] PILCO > Starting data collection run\n",
      "[2017-05-18 19:50:43.847132] PILCO > Running for 4.000000 seconds\n",
      "[2017-05-18 19:50:44.177659] PILCO > Done. Stopping robot. Value of run [39.965072]\n",
      "[2017-05-18 19:50:44.178482] Cartpole > Stopped plant loop\n",
      "[2017-05-18 19:50:44.179303] Cartpole > Reset to inital state\n",
      "[2017-05-18 19:50:44.180272] PILCO > Applying controls uniformly at random\n",
      "[2017-05-18 19:50:44.181010] PILCO > Starting data collection run\n",
      "[2017-05-18 19:50:44.181768] PILCO > Running for 4.000000 seconds\n",
      "[2017-05-18 19:50:44.458851] PILCO > Done. Stopping robot. Value of run [39.997023]\n",
      "[2017-05-18 19:50:44.459559] Cartpole > Stopped plant loop\n",
      "[2017-05-18 19:50:44.460238] Cartpole > Reset to inital state\n",
      "[2017-05-18 19:50:44.461177] PILCO > Applying controls uniformly at random\n",
      "[2017-05-18 19:50:44.461917] PILCO > Starting data collection run\n",
      "[2017-05-18 19:50:44.462768] PILCO > Running for 4.000000 seconds\n",
      "[2017-05-18 19:50:44.845447] PILCO > Done. Stopping robot. Value of run [37.961282]\n",
      "[2017-05-18 19:50:44.846211] Cartpole > Stopped plant loop\n"
     ]
    }
   ],
   "source": [
    "# setup output directory\n",
    "utils.set_output_dir(os.path.join(utils.get_output_dir(), 'cartpole'))\n",
    "\n",
    "use_bnn = True\n",
    "J = 4                                                       # number of random initial trials\n",
    "N = 100                                                     #learning iterations\n",
    "pilco_config = default_params()\n",
    "# initialize learner params for PILCO\n",
    "pilco_config['params']['use_empirical_x0'] = True\n",
    "pilco_config['params']['realtime'] = False\n",
    "pilco_config['params']['H'] = 4.0\n",
    "pilco_config['params']['plant']['dt'] = 0.1\n",
    "pilco_config['params']['plant']['params']['l'] = .6\n",
    "pilco_config['params']['cost']['pendulum_length'] = .6\n",
    "\n",
    "# create copy of params for MC-PILCO\n",
    "mcpilco_config = pilco_config.copy()\n",
    "mcpilco_config['params']['min_method'] = 'ADAM'\n",
    "mcpilco_config['params']['learning_rate'] = 1e-4\n",
    "mcpilco_config['params']['max_evals'] = 1000\n",
    "mcpilco_config['params']['clip'] = 10.0\n",
    "mcpilco_config['n_samples'] = 25\n",
    "mcpilco_config['dynmodel_class'] = kreg.BNN\n",
    "mcpilco_config['policy_class'] = NNPolicy\n",
    "\n",
    "# init learners\n",
    "pilco = PILCO(**pilco_config)\n",
    "mcpilco = MC_PILCO(**mcpilco_config)\n",
    "mcpilco.resample = False\n",
    "\n",
    "# share experience and policy between the two learners\n",
    "mcpilco.experience = pilco.experience\n",
    "mcpilco.policy = pilco.policy\n",
    "\n",
    "# gather data with random trials on the pilco learner\n",
    "for i in range(J):\n",
    "    pilco.plant.reset_state()\n",
    "    pilco.apply_controller(random_controls=True)\n",
    "#pilco.plant.reset_state()\n",
    "#pilco.apply_controller()"
   ]
  },
  {
   "cell_type": "code",
   "execution_count": null,
   "metadata": {
    "scrolled": true
   },
   "outputs": [
    {
     "name": "stdout",
     "output_type": "stream",
     "text": [
      "[2017-05-18 19:50:44.872390] PILCO > Training dynamics model\n",
      "[2017-05-18 19:50:44.874439] GP_UI > Unable to load state from /home/thalassa/gamboa/.kusanagi/output/cartpole/PILCO_GP_UI_6_4_Cartpole_RBFPolicy_sat_dynamics.zip\n",
      "[2017-05-18 19:50:44.877316] GP_UI > Initialising parameters\n",
      "[2017-05-18 19:50:44.879210] PILCO > Dataset size:: Inputs: [ (160, 6) ], Targets: [ (160, 4) ]  \n",
      "[2017-05-18 19:50:44.879995] GP_UI > Initialising expression graph for full GP training loss function\n",
      "[2017-05-18 19:50:45.174715] GP_UI > Compiling full GP training loss function\n",
      "[2017-05-18 19:50:45.896486] GP_UI > Compiling gradient of full GP training loss function\n"
     ]
    }
   ],
   "source": [
    "pilco.train_dynamics()"
   ]
  },
  {
   "cell_type": "code",
   "execution_count": null,
   "metadata": {
    "scrolled": true
   },
   "outputs": [],
   "source": [
    "mcpilco.train_dynamics(max_episodes=4)"
   ]
  },
  {
   "cell_type": "code",
   "execution_count": null,
   "metadata": {
    "scrolled": true
   },
   "outputs": [],
   "source": [
    "mcpilco.resample = False\n",
    "mcpilco.rollout_fn = None\n",
    "mcpilco.set_n_samples(100)\n",
    "plot_results(mcpilco,plot_samples=True)"
   ]
  },
  {
   "cell_type": "code",
   "execution_count": null,
   "metadata": {
    "scrolled": true
   },
   "outputs": [],
   "source": [
    "mcpilco.resample = True\n",
    "mcpilco.rollout_fn = None\n",
    "mcpilco.set_n_samples(100)\n",
    "plot_results(mcpilco,plot_samples=False)"
   ]
  },
  {
   "cell_type": "code",
   "execution_count": null,
   "metadata": {
    "scrolled": true
   },
   "outputs": [],
   "source": [
    "plot_results(pilco)"
   ]
  },
  {
   "cell_type": "code",
   "execution_count": null,
   "metadata": {},
   "outputs": [],
   "source": [
    "#resample = True\n",
    "#n_samples = 25\n",
    "#mcpilco.learning_rate = 1e-4\n",
    "#if mcpilco.trajectory_samples.get_value() != n_samples or mcpilco.resample != resample:\n",
    "#    mcpilco.resample = resample\n",
    "#    mcpilco.set_n_samples(n_samples)\n",
    "#    mcpilco.rollout_fn = None\n",
    "#    mcpilco.train_fn = None\n",
    "mcpilco.set_n_samples(25)\n",
    "mcpilco.learning_rate = 1e-4\n",
    "# train\n",
    "mcpilco.train_policy()\n",
    "# apply controller\n",
    "mcpilco.plant.reset_state()\n",
    "mcpilco.apply_controller()"
   ]
  },
  {
   "cell_type": "code",
   "execution_count": 9,
   "metadata": {},
   "outputs": [],
   "source": [
    "#mcpilco.save()"
   ]
  },
  {
   "cell_type": "code",
   "execution_count": null,
   "metadata": {
    "collapsed": true
   },
   "outputs": [],
   "source": []
  },
  {
   "cell_type": "code",
   "execution_count": null,
   "metadata": {
    "collapsed": true
   },
   "outputs": [],
   "source": []
  }
 ],
 "metadata": {
  "kernelspec": {
   "display_name": "Python 3",
   "language": "python",
   "name": "python3"
  },
  "language_info": {
   "codemirror_mode": {
    "name": "ipython",
    "version": 3
   },
   "file_extension": ".py",
   "mimetype": "text/x-python",
   "name": "python",
   "nbconvert_exporter": "python",
   "pygments_lexer": "ipython3",
   "version": "3.6.0"
  }
 },
 "nbformat": 4,
 "nbformat_minor": 2
}
