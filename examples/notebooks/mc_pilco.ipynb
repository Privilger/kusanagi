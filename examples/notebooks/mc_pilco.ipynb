{
 "cells": [
  {
   "cell_type": "code",
   "execution_count": 1,
   "metadata": {},
   "outputs": [],
   "source": [
    "%load_ext autoreload\n",
    "%autoreload 2\n",
    "'''\n",
    "Example of how to use the library for learning using the PILCO learner on the cartpole task\n",
    "'''\n",
    "# pylint: disable=C0103\n",
    "import atexit\n",
    "import sys\n",
    "import os\n",
    "import numpy as np\n",
    "import kusanagi.ghost.regression as kreg\n",
    "\n",
    "from kusanagi import utils\n",
    "from kusanagi.shell.cartpole import default_params\n",
    "from kusanagi.ghost.learners.PILCO import PILCO, MC_PILCO\n",
    "from kusanagi.ghost.control import NNPolicy\n",
    "from kusanagi.utils import plot_results\n",
    "\n",
    "#np.random.seed(31337)\n",
    "np.set_printoptions(linewidth=500)"
   ]
  },
  {
   "cell_type": "code",
   "execution_count": 2,
   "metadata": {},
   "outputs": [
    {
     "name": "stdout",
     "output_type": "stream",
     "text": [
      "[2017-05-01 14:56:35.494303] RBFPolicy_sat > Initializing parameters\n",
      "[2017-05-01 14:56:35.501123] RBFPolicy_sat > Initialising expression graph for full GP training loss function\n",
      "[2017-05-01 14:56:35.638161] RBFPolicy_sat > Initialising expression graph for prediction\n",
      "[2017-05-01 14:56:35.654210] RBFPolicy_sat > Compiling mean and variance of prediction\n",
      "[2017-05-01 14:56:37.032169] RBFPolicy_sat > Done compiling\n",
      "[2017-05-01 14:56:37.043564] Experience > Initialising new experience dataset\n",
      "[2017-05-01 14:56:37.044255] MC_PILCO > Initialising new MC_PILCO learner\n",
      "('float64', dtype('float64'))\n",
      "[2017-05-01 14:56:37.045854] MC_PILCO > Unable to load state from /home/juancamilog/.kusanagi/output/cartpole/MC_PILCO_BNN_6_4_Cartpole_RBFPolicy_sat.zip\n",
      "[2017-05-01 14:56:37.046331] MC_PILCO > Cost parameters: {'target': [0, 0, 0, 3.141592653589793], 'width': 0.25, 'expl': 0.0, 'pendulum_length': 0.6, 'angle_dims': [3]}\n",
      "[2017-05-01 14:56:37.047043] RBFPolicy_sat > Unable to load state from /home/juancamilog/.kusanagi/output/cartpole/RBFPolicy_sat_5_1_cpu_float64.zip\n",
      "[2017-05-01 14:56:37.049203] Experience > Unable to load state from /home/juancamilog/.kusanagi/output/cartpole/MC_PILCO_BNN_6_4_Cartpole_RBFPolicy_sat_dataset.zip\n",
      "[2017-05-01 14:56:37.049865] MC_PILCO > Compiling cost function\n",
      "[2017-05-01 14:56:37.050413] MC_PILCO > Cost parameters: {'target': [0, 0, 0, 3.141592653589793], 'width': 0.25, 'expl': 0.0, 'pendulum_length': 0.6, 'angle_dims': [3]}\n",
      "[2017-05-01 14:56:37.186831] BNN > Unable to load state from /home/juancamilog/.kusanagi/output/cartpole/MC_PILCO_BNN_6_4_Cartpole_RBFPolicy_sat_dynamics.zip\n",
      "[2017-05-01 14:56:37.187990] Cartpole > Reset to inital state\n",
      "[2017-05-01 14:56:37.188850] MC_PILCO > Starting data collection run\n",
      "[2017-05-01 14:56:37.189522] MC_PILCO > Running for 4.000000 seconds\n",
      "[2017-05-01 14:56:37.366908] MC_PILCO > Done. Stopping robot. Value of run [39.999330]\n",
      "[2017-05-01 14:56:37.368050] Cartpole > Stopped plant loop\n"
     ]
    }
   ],
   "source": [
    "if __name__ == '__main__':\n",
    "    # setup output directory\n",
    "    utils.set_output_dir(os.path.join(utils.get_output_dir(), 'cartpole'))\n",
    "\n",
    "    use_bnn = True\n",
    "    J = 1                                                       # number of random initial trials\n",
    "    N = 100                                                     #learning iterations\n",
    "    learner_params = default_params()\n",
    "    # initialize learner\n",
    "    learner_params['params']['use_empirical_x0'] = True\n",
    "    learner_params['params']['realtime'] = False\n",
    "    learner_params['params']['H'] = 4.0\n",
    "    learner_params['params']['plant']['dt'] = 0.1\n",
    "    learner_params['params']['plant']['params']['l'] = .6\n",
    "    learner_params['params']['cost']['pendulum_length'] = .6\n",
    "\n",
    "    # dropout network (BNN) based PILCO\n",
    "    learner_params['params']['min_method'] = 'ADAM'\n",
    "    learner_params['params']['learning_rate'] = 1e-3\n",
    "    learner_params['params']['max_evals'] = 1000\n",
    "    learner_params['params']['clip'] = 1.0\n",
    "    learner_params['dynmodel_class'] = kreg.BNN\n",
    "    #learner_params['policy_class'] = NNPolicy\n",
    "\n",
    "    learner = MC_PILCO(**learner_params)\n",
    "    try:\n",
    "        learner.load()\n",
    "    except Exception:\n",
    "        utils.print_with_stamp('Unable to learner state', 'main')\n",
    "    # register exit hook\n",
    "    atexit.register(learner.stop)\n",
    "    \n",
    "    #if we have no prior data, run trials with random controls\n",
    "    if learner.experience.n_samples() == 0:\n",
    "        # gather data with random trials\n",
    "        for i in range(J):\n",
    "            learner.plant.reset_state()\n",
    "            learner.apply_controller(random_controls=True)\n",
    "    # otherwise, check if we need to collect data with the current policy parameters\n",
    "    else:\n",
    "        last_pp = learner.experience.policy_parameters[-1]\n",
    "        current_pp = learner.policy.get_params(symbolic=False)\n",
    "        should_run = True\n",
    "        for lastp, curp in zip(last_pp, current_pp):\n",
    "            should_run = should_run and not np.allclose(lastp, curp)\n",
    "\n",
    "        if should_run:\n",
    "            learner.plant.reset_state()\n",
    "            learner.apply_controller()"
   ]
  },
  {
   "cell_type": "code",
   "execution_count": 3,
   "metadata": {},
   "outputs": [
    {
     "name": "stdout",
     "output_type": "stream",
     "text": [
      "[2017-05-01 14:56:40.546045] MC_PILCO > Training dynamics model\n",
      "[(41, 4)]\n",
      "[2017-05-01 14:56:40.548563] MC_PILCO > Dataset size:: Inputs: [ (40, 6) ], Targets: [ (40, 4) ]  \n",
      "[2017-05-01 14:56:40.549724] BNN > Building network\n",
      "InputLayer {'shape': (None, 6), 'name': 'BNN_input'}\n",
      "DropoutLayer {'p': 0.0, 'rescale': False, 'name': 'BNN_drop_input', 'dropout_samples': array(10, dtype=int32)}\n",
      "DenseLayer {'num_units': 200, 'nonlinearity': <function sigmoid at 0x7f54e2394510>, 'name': 'BNN_fc0'}\n",
      "DropoutLayer {'p': 0.05, 'rescale': False, 'name': 'BNN_drop0', 'dropout_samples': array(10, dtype=int32)}\n",
      "DenseLayer {'num_units': 200, 'nonlinearity': <function sigmoid at 0x7f54e2394510>, 'name': 'BNN_fc1'}\n",
      "DropoutLayer {'p': 0.05, 'rescale': False, 'name': 'BNN_drop1', 'dropout_samples': array(10, dtype=int32)}\n",
      "DenseLayer {'num_units': 4, 'nonlinearity': <function linear at 0x7f54e23a4d90>, 'name': 'BNN_output'}\n",
      "[2017-05-01 14:56:40.568956] BNN > Initialising loss function\n",
      "[2017-05-01 14:56:40.774712] BNN > Compiling training and  loss functions\n",
      "[2017-05-01 14:57:01.980172] BNN > Done compiling\n",
      "[2017-05-01 14:57:43.251727] BNN > iter: 5001, loss: -2.320542E+00, error: 3.988057E-02, elapsed: 6.518364E-03, sn2: [ 0.00013211  0.00481115  0.04035171  0.00076421]02   6.01513581e-04]\n",
      "[2017-05-01 14:57:43.254329] MC_PILCO > Done training dynamics model\n"
     ]
    },
    {
     "data": {
      "text/plain": [
       "<kusanagi.ghost.regression.NN.BNN at 0x7f54a03a4cc0>"
      ]
     },
     "execution_count": 3,
     "metadata": {},
     "output_type": "execute_result"
    }
   ],
   "source": [
    "learner.train_dynamics(in_steps=1)"
   ]
  },
  {
   "cell_type": "code",
   "execution_count": null,
   "metadata": {
    "collapsed": true
   },
   "outputs": [],
   "source": [
    "plot_results(learner)"
   ]
  },
  {
   "cell_type": "code",
   "execution_count": 4,
   "metadata": {
    "collapsed": true
   },
   "outputs": [],
   "source": [
    "import pybullet"
   ]
  },
  {
   "cell_type": "code",
   "execution_count": 4,
   "metadata": {},
   "outputs": [
    {
     "ename": "NameError",
     "evalue": "name 'pybullet' is not defined",
     "output_type": "error",
     "traceback": [
      "\u001b[0;31m---------------------------------------------------------------------------\u001b[0m",
      "\u001b[0;31mNameError\u001b[0m                                 Traceback (most recent call last)",
      "\u001b[0;32m<ipython-input-4-5e6e98795805>\u001b[0m in \u001b[0;36m<module>\u001b[0;34m()\u001b[0m\n\u001b[0;32m----> 1\u001b[0;31m \u001b[0mpclient\u001b[0m \u001b[0;34m=\u001b[0m \u001b[0mpybullet\u001b[0m\u001b[0;34m.\u001b[0m\u001b[0mconnect\u001b[0m\u001b[0;34m(\u001b[0m\u001b[0mpybullet\u001b[0m\u001b[0;34m.\u001b[0m\u001b[0mGUI\u001b[0m\u001b[0;34m)\u001b[0m\u001b[0;34m\u001b[0m\u001b[0m\n\u001b[0m",
      "\u001b[0;31mNameError\u001b[0m: name 'pybullet' is not defined"
     ]
    }
   ],
   "source": [
    "pclient = pybullet.connect(pybullet.GUI)"
   ]
  },
  {
   "cell_type": "code",
   "execution_count": 6,
   "metadata": {},
   "outputs": [],
   "source": [
    "import theano"
   ]
  },
  {
   "cell_type": "code",
   "execution_count": 8,
   "metadata": {},
   "outputs": [
    {
     "data": {
      "text/plain": [
       "'float64'"
      ]
     },
     "execution_count": 8,
     "metadata": {},
     "output_type": "execute_result"
    }
   ],
   "source": [
    "theano.config.floatX"
   ]
  },
  {
   "cell_type": "code",
   "execution_count": null,
   "metadata": {
    "collapsed": true
   },
   "outputs": [],
   "source": []
  }
 ],
 "metadata": {
  "kernelspec": {
   "display_name": "Python 2",
   "language": "python",
   "name": "python2"
  },
  "language_info": {
   "codemirror_mode": {
    "name": "ipython",
    "version": 3
   },
   "file_extension": ".py",
   "mimetype": "text/x-python",
   "name": "python",
   "nbconvert_exporter": "python",
   "pygments_lexer": "ipython3",
   "version": "3.6.1"
  }
 },
 "nbformat": 4,
 "nbformat_minor": 2
}
