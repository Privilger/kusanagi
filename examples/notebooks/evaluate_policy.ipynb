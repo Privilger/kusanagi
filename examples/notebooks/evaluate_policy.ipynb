{
 "cells": [
  {
   "cell_type": "code",
   "execution_count": 18,
   "metadata": {
    "collapsed": true
   },
   "outputs": [],
   "source": [
    "import pickle"
   ]
  },
  {
   "cell_type": "code",
   "execution_count": 16,
   "metadata": {
    "collapsed": true
   },
   "outputs": [],
   "source": [
    "result_files=['/localdata_ssd/juan/icra2018/cartpole/pilco_ssgp_rbf_1/results_40_20',\n",
    "              '/localdata_ssd/juan/icra2018/cartpole/mc_pilco_dropout_rbf_3/results_40_20',\n",
    "              '/localdata_ssd/juan/icra2018/cartpole/mcpilco_dropout_nn_4/results_40_20',\n",
    "              '/localdata_ssd/juan/icra2018/cartpole/mc_pilco_lognormal_rbf_5/results_40_20',\n",
    "              '/localdata_ssd/juan/icra2018/cartpole/mcpilco_lognormal_nn_6/results_40_20_new',\n",
    "              '/localdata_ssd/juan/icra2018/cartpole/mcpilco_dropout_dropoutnn_7/results_40_20',\n",
    "              '/localdata_ssd/juan/icra2018/cartpole/mcpilco_lognormal_dropoutnn_8/results_40_20_new']"
   ]
  },
  {
   "cell_type": "code",
   "execution_count": 4,
   "metadata": {},
   "outputs": [
    {
     "ename": "TypeError",
     "evalue": "load() got an unexpected keyword argument 'encoding'",
     "output_type": "error",
     "traceback": [
      "\u001b[0;31m---------------------------------------------------------------------------\u001b[0m",
      "\u001b[0;31mTypeError\u001b[0m                                 Traceback (most recent call last)",
      "\u001b[0;32m<ipython-input-4-ea0810002a4a>\u001b[0m in \u001b[0;36m<module>\u001b[0;34m()\u001b[0m\n\u001b[1;32m      2\u001b[0m \u001b[0;32mfor\u001b[0m \u001b[0mrpath\u001b[0m \u001b[0;32min\u001b[0m \u001b[0mresult_files\u001b[0m\u001b[0;34m:\u001b[0m\u001b[0;34m\u001b[0m\u001b[0m\n\u001b[1;32m      3\u001b[0m     \u001b[0;32mwith\u001b[0m \u001b[0mopen\u001b[0m\u001b[0;34m(\u001b[0m\u001b[0mrpath\u001b[0m\u001b[0;34m,\u001b[0m \u001b[0;34m'rb'\u001b[0m\u001b[0;34m)\u001b[0m \u001b[0;32mas\u001b[0m \u001b[0mf\u001b[0m\u001b[0;34m:\u001b[0m\u001b[0;34m\u001b[0m\u001b[0m\n\u001b[0;32m----> 4\u001b[0;31m         \u001b[0mresult_arrays\u001b[0m\u001b[0;34m.\u001b[0m\u001b[0mappend\u001b[0m\u001b[0;34m(\u001b[0m\u001b[0mdill\u001b[0m\u001b[0;34m.\u001b[0m\u001b[0mload\u001b[0m\u001b[0;34m(\u001b[0m\u001b[0mf\u001b[0m\u001b[0;34m,\u001b[0m \u001b[0mencoding\u001b[0m\u001b[0;34m=\u001b[0m\u001b[0;34m'bytes'\u001b[0m\u001b[0;34m)\u001b[0m\u001b[0;34m)\u001b[0m\u001b[0;34m\u001b[0m\u001b[0m\n\u001b[0m",
      "\u001b[0;31mTypeError\u001b[0m: load() got an unexpected keyword argument 'encoding'"
     ]
    }
   ],
   "source": [
    "result_arrays = []\n",
    "for rpath in result_files:\n",
    "    with open(rpath, 'rb') as f:\n",
    "        result_arrays.append(dill.load(f, encoding='bytes'))"
   ]
  },
  {
   "cell_type": "code",
   "execution_count": 19,
   "metadata": {
    "collapsed": true
   },
   "outputs": [],
   "source": [
    "with open('/localdata_ssd/juan/icra2018/cartpole/mcpilco_lognormal_nn_6/results_40_20.pkl', 'wb') as f:\n",
    "    pickle.dump(results6, f, protocol=2)\n",
    "with open('/localdata_ssd/juan/icra2018/cartpole/mcpilco_lognormal_dropoutnn_8/results_40_20.pkl', 'wb') as f:\n",
    "    pickle.dump(results8, f, protocol=2)"
   ]
  },
  {
   "cell_type": "code",
   "execution_count": 17,
   "metadata": {},
   "outputs": [
    {
     "data": {
      "text/plain": [
       "41"
      ]
     },
     "execution_count": 17,
     "metadata": {},
     "output_type": "execute_result"
    }
   ],
   "source": [
    "len(results8)"
   ]
  },
  {
   "cell_type": "code",
   "execution_count": null,
   "metadata": {
    "collapsed": true
   },
   "outputs": [],
   "source": []
  }
 ],
 "metadata": {
  "kernelspec": {
   "display_name": "Python 3",
   "language": "python",
   "name": "python3"
  },
  "language_info": {
   "codemirror_mode": {
    "name": "ipython",
    "version": 3
   },
   "file_extension": ".py",
   "mimetype": "text/x-python",
   "name": "python",
   "nbconvert_exporter": "python",
   "pygments_lexer": "ipython3",
   "version": "3.6.2"
  }
 },
 "nbformat": 4,
 "nbformat_minor": 2
}
