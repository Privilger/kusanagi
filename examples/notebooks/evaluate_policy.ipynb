{
 "cells": [
  {
   "cell_type": "code",
   "execution_count": null,
   "metadata": {},
   "outputs": [],
   "source": [
    "import pickle\n",
    "import os\n",
    "import numpy as np"
   ]
  },
  {
   "cell_type": "code",
   "execution_count": null,
   "metadata": {
    "scrolled": true
   },
   "outputs": [],
   "source": [
    "base_dirs = ['/localdata/juan/local/',\n",
    "             '/localdata/juan/erehwon//',\n",
    "             '/localdata/juan/numenor/']\n",
    "experiments = ['pilco_ssgp_rbfp_1',\n",
    "               'mcpilco_dropoutd_rbfp_3',\n",
    "               'mcpilco_dropoutd_mlpp_4',\n",
    "               'mcpilco_lndropoutd_rbfp_5',\n",
    "               'mcpilco_lndropoutd_mlpp_6',\n",
    "               'mcpilco_dropoutd_dropoutp_7',\n",
    "               'mcpilco_lndropoutd_dropoutp_8']\n",
    "result_files = []\n",
    "for b in base_dirs:\n",
    "    dirs = os.listdir(b)\n",
    "    for e in experiments:\n",
    "        for d in dirs:\n",
    "            if d.find(e) == 0:\n",
    "                res_dir = os.path.join(b,d)\n",
    "                res_file = os.path.join(res_dir, 'results_50_10')\n",
    "                result_files.append(res_file)\n",
    "                res_file = os.path.join(res_dir, 'results_50_20')\n",
    "                result_files.append(res_file)\n",
    "print(result_files)"
   ]
  },
  {
   "cell_type": "code",
   "execution_count": null,
   "metadata": {
    "scrolled": true
   },
   "outputs": [],
   "source": [
    "base_dirs = ['/localdata/juan/inferno/',\n",
    "             '/localdata/juan/rhys/',\n",
    "             '/localdata/juan/numenor/'\n",
    "             ]\n",
    "experiments = ['pilco_ssgp_rbfp_1',\n",
    "               'mcpilco_dropoutd_rbfp_3',\n",
    "               'mcpilco_dropoutd_mlpp_4',\n",
    "               'mcpilco_lndropoutd_rbfp_5',\n",
    "               'mcpilco_lndropoutd_mlpp_6',\n",
    "               'mcpilco_dropoutd_dropoutp_7',\n",
    "               'mcpilco_lndropoutd_dropoutp_8']\n",
    "\n",
    "result_files = []\n",
    "for b in base_dirs:\n",
    "    for e in experiments:\n",
    "        res_dir = os.path.join(b,e)\n",
    "        res_file = os.path.join(res_dir, 'results_50_10')\n",
    "        result_files.append(res_file)\n",
    "print(result_files)"
   ]
  },
  {
   "cell_type": "code",
   "execution_count": null,
   "metadata": {
    "scrolled": true
   },
   "outputs": [],
   "source": [
    "from collections import OrderedDict\n",
    "result_arrays = OrderedDict()\n",
    "for rpath in result_files:\n",
    "    if not os.path.isfile(rpath):\n",
    "        continue\n",
    "    with open(rpath, 'rb') as f:\n",
    "        print('Opening %s' % rpath)\n",
    "        exp_type = None\n",
    "        for e in experiments:\n",
    "            if rpath.find(e) >= 0:\n",
    "                exp_type = e\n",
    "                break\n",
    "        arrays = result_arrays.get(exp_type, [])\n",
    "        arrays.append(pickle.load(f))\n",
    "        result_arrays[exp_type] = arrays"
   ]
  },
  {
   "cell_type": "code",
   "execution_count": null,
   "metadata": {},
   "outputs": [],
   "source": [
    "ids = [0,1,2,4,3,5,6]\n",
    "names = ['SSGP-DYN_RBF-POL (PILCO)', 'DROPOUT-DYN_RBF-POL', 'DROPOUT-DYN_MLP-POL',\n",
    "         'LOGNORMAL-DYN_RBF-POL', 'DROPOUT-DYN_DROPOUT-POL', 'LOGNORMAL-DYN_MLP-POL',\n",
    "         'LOGNORMAL-DYN_DROPOUT-POL']"
   ]
  },
  {
   "cell_type": "code",
   "execution_count": null,
   "metadata": {},
   "outputs": [],
   "source": [
    "from collections import OrderedDict\n",
    "# gather all costs\n",
    "costs = OrderedDict()\n",
    "for e in experiments:\n",
    "    exp_results = result_arrays[e]\n",
    "    costs_e = []\n",
    "    for results in exp_results:\n",
    "        costs_i = []\n",
    "        #learning_iter\n",
    "        for rj in results: \n",
    "            costs_ij = []\n",
    "            #trial\n",
    "            for r in rj:\n",
    "                costs_ij.append(r[2])\n",
    "            costs_i.append(costs_ij)\n",
    "        if len(costs_i) > 0 :\n",
    "            costs_e.append(costs_i)\n",
    "    costs_i = np.concatenate(costs_e, axis=1).squeeze()\n",
    "    costs_i = costs_i/costs_i.shape[-1]\n",
    "    print costs_i.shape\n",
    "    mean_sum_costs = costs_i.sum(-1).mean(-1)\n",
    "    std_sum_costs = costs_i.sum(-1).std(-1)\n",
    "    costs[e] = (mean_sum_costs, std_sum_costs)"
   ]
  },
  {
   "cell_type": "code",
   "execution_count": null,
   "metadata": {},
   "outputs": [],
   "source": [
    "import matplotlib\n",
    "from matplotlib import pyplot as plt\n",
    "exp1 = ['mcpilco_dropoutd_mlpp_4',\n",
    " 'mcpilco_lndropoutd_mlpp_6',\n",
    " 'mcpilco_dropoutd_dropoutp_7',\n",
    " 'mcpilco_lndropoutd_dropoutp_8']\n",
    "names = ['Binary Drop (p=0.1) Dyn, MLP Pol', 'Log-Normal Drop Dyn, MLP Pol', 'Binary Drop (p=0.1) Dyn, Drop MLP Pol p=0.1', 'Log-Normal Drop Dyn, Drop MLP Pol p=0.1']\n",
    "linetype = ['--','-','--','-']\n",
    "names = dict(zip(exp1 ,names))\n",
    "linetype = dict(zip(exp1 ,linetype))\n",
    "matplotlib.rcParams.update({'font.size': 20})\n",
    "fig = plt.figure(figsize=(15,9))\n",
    "t = range(len(costs.values()[0][1]))\n",
    "for e in exp1:\n",
    "    mean, std = costs[e]\n",
    "    min_ = mean\n",
    "    std_ = std\n",
    "    #min_ = np.minimum.accumulate(mean)\n",
    "    #std_ = std[np.array([np.where(mean==mi) for mi in min_]).flatten()]\n",
    "    if names[e].find('rbf') < 0:\n",
    "        pl, = plt.plot(t, min_, linetype[e], label=names[e], linewidth=2)\n",
    "        #pl, = plt.plot(t, max_, linetype[e], label=names[e], linewidth=2, color=pl.get_color())\n",
    "        alpha = 0.5\n",
    "        for i in range(1,2):\n",
    "            alpha = alpha*0.5\n",
    "            lower_bound = min_ - i*std_*0.5\n",
    "            #lower_bound = min_\n",
    "            upper_bound = min_ + i*std_*0.5\n",
    "            #upper_bound = max_\n",
    "            plt.plot(t, upper_bound, linetype[e], linewidth=2,color=pl.get_color(),alpha=alpha)\n",
    "            plt.plot(t, lower_bound, linetype[e], linewidth=2,color=pl.get_color(),alpha=alpha)\n",
    "            plt.fill_between(t, lower_bound, upper_bound, alpha=alpha, color=pl.get_color(),  linestyle=linetype[e])\n",
    "plt.legend()\n",
    "plt.xlabel('Number of interactions (2.5 secs at 10 Hz each)')\n",
    "plt.ylabel('Average cost (over 30 runs)')\n",
    "plt.show()"
   ]
  },
  {
   "cell_type": "code",
   "execution_count": null,
   "metadata": {},
   "outputs": [],
   "source": [
    "import matplotlib\n",
    "from matplotlib import pyplot as plt\n",
    "exp1 = ['pilco_ssgp_rbfp_1',\n",
    " 'mcpilco_dropoutd_rbfp_3',\n",
    " 'mcpilco_lndropoutd_rbfp_5',]\n",
    "names = ['SSGP Dyn, RBF Pol', 'Binary Drop (p=0.1) Dyn, RBF Pol', 'Log-Normal Drop Dyn, RBF Pol']\n",
    "linetype = ['--','-','--','-']\n",
    "names = dict(zip(exp1 ,names))\n",
    "linetype = dict(zip(exp1 ,linetype))\n",
    "matplotlib.rcParams.update({'font.size': 20})\n",
    "fig = plt.figure(figsize=(15,9))\n",
    "t = range(len(costs.values()[0][1]))\n",
    "for e in exp1:\n",
    "    mean, std = costs[e]\n",
    "    min_, std_ = mean, std\n",
    "    #min_ = np.minimum.accumulate(mean)\n",
    "    #std_ = std[np.array([np.where(mean==mi) for mi in min_]).flatten()]\n",
    "    if names[e].find('rbf') < 0:\n",
    "        pl, = plt.plot(t, min_, linetype[e], label=names[e], linewidth=2)\n",
    "        #pl, = plt.plot(t, max_, linetype[e], label=names[e], linewidth=2, color=pl.get_color())\n",
    "        alpha = 0.5\n",
    "        for i in range(1,2):\n",
    "            alpha = alpha*0.5\n",
    "            lower_bound = min_ - i*std_*0.5\n",
    "            #lower_bound = min_\n",
    "            upper_bound = min_ + i*std_*0.5\n",
    "            #upper_bound = max_\n",
    "            plt.plot(t, upper_bound, linetype[e], linewidth=2,color=pl.get_color(),alpha=alpha)\n",
    "            plt.plot(t, lower_bound, linetype[e], linewidth=2,color=pl.get_color(),alpha=alpha)\n",
    "            plt.fill_between(t, lower_bound, upper_bound, alpha=alpha, color=pl.get_color(),  linestyle=linetype[e])\n",
    "plt.legend()\n",
    "plt.xlabel('Number of interactions (2.5 secs at 10 Hz each)')\n",
    "plt.ylabel('Average cost (over 30 runs)')\n",
    "plt.show()"
   ]
  },
  {
   "cell_type": "code",
   "execution_count": null,
   "metadata": {},
   "outputs": [],
   "source": []
  }
 ],
 "metadata": {
  "kernelspec": {
   "display_name": "Python 2",
   "language": "python",
   "name": "python2"
  },
  "language_info": {
   "codemirror_mode": {
    "name": "ipython",
    "version": 2
   },
   "file_extension": ".py",
   "mimetype": "text/x-python",
   "name": "python",
   "nbconvert_exporter": "python",
   "pygments_lexer": "ipython2",
   "version": "2.7.15"
  }
 },
 "nbformat": 4,
 "nbformat_minor": 2
}
