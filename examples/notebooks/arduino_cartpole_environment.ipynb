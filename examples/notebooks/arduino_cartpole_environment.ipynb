{
 "cells": [
  {
   "cell_type": "code",
   "execution_count": null,
   "metadata": {},
   "outputs": [],
   "source": [
    "import numpy as np\n",
    "import kusanagi\n",
    "\n",
    "from functools import partial\n",
    "from kusanagi.shell.arduino import SerialPlant\n",
    "from kusanagi.utils import print_with_stamp\n",
    "from kusanagi.shell.cartpole import cartpole_loss\n",
    "from kusanagi.shell.cost import build_loss_func"
   ]
  },
  {
   "cell_type": "code",
   "execution_count": null,
   "metadata": {},
   "outputs": [],
   "source": [
    "# state dims are [cart_pos, cart_vel, pole_vel, pole_angle]\n",
    "\n",
    "# control rate\n",
    "dt = 0.1\n",
    "\n",
    "# cost function\n",
    "loss_task1 = partial(cartpole_loss, target=[0.0,0.0,0.0,np.pi])\n",
    "loss_task2 = partial(cartpole_loss, target=[0.5,0.0,0.0,np.pi])\n",
    "loss_task3 = partial(cartpole_loss, target=[-0.5,0.0,0.0,np.pi])\n",
    "\n",
    "loss_func = build_loss_func(loss_task1, False, 'cartpole_loss')\n",
    "\n",
    "env = SerialPlant(state_indices=[0,2,3,1], dt=dt, port='/dev/ttyACM0', maxU=[10], loss_func=loss_func)"
   ]
  },
  {
   "cell_type": "code",
   "execution_count": null,
   "metadata": {},
   "outputs": [],
   "source": [
    "# this waits for user input\n",
    "#cart_pos, cart_vel, pole_vel, pole_angle  = env.reset()\n",
    "\n",
    "# this doesn't wait for user input\n",
    "cart_pos, cart_vel, pole_vel, pole_angle = env._reset(wait_for_user=False)"
   ]
  },
  {
   "cell_type": "code",
   "execution_count": null,
   "metadata": {},
   "outputs": [],
   "source": [
    "env._reset(False)\n",
    "t = env.t\n",
    "# runs for 40 steps (when dt =0.1, this is 4 seconds)\n",
    "for i in range(40):\n",
    "    obs, cost, done, info = env.step(np.array([10])*np.sin(2*np.pi*t))\n",
    "    t = info['t']\n",
    "    print_with_stamp('%f        ' % cost, same_line=True)"
   ]
  },
  {
   "cell_type": "code",
   "execution_count": null,
   "metadata": {},
   "outputs": [],
   "source": [
    "#loading a policy learned kusanagi mc_pilco\n",
    "from kusanagi.ghost.control import NNPolicy\n",
    "from kusanagi.base import apply_controller\n",
    "from kusanagi import utils\n",
    "\n",
    "H = 1000\n",
    "angle_dims = [3]\n",
    "\n",
    "# loading policy\n",
    "# pol should define the method pol.__call__(states)\n",
    "# which returns a list of [actions, uncertainties]\n",
    "# uncertainties are actually not required, it's just for compatibility with old code (i.e. uncertainties can be None)\n",
    "# In this case, the dimensions for the policy input are cart_pos, cart_vel, pole_vel, sin(pole_angle), cos(pole_angle) \n",
    "#pol = NNPolicy(5,\n",
    "#    filename=kusanagi.install_path+'/examples/data/serial_plant_policy')\n",
    "pol = NNPolicy(5,\n",
    "    filename='/home/juancamilog/.kusanagi/output/SerialPlant_8/policy_19')\n",
    "\n",
    "# function to execute before applying policy\n",
    "def gTrig(state):\n",
    "    return utils.gTrig_np(state, angle_dims).flatten()\n",
    "\n",
    "# apply controller for H steps\n",
    "states, actions, costs, infos =  apply_controller(env, pol, H, gTrig)"
   ]
  },
  {
   "cell_type": "code",
   "execution_count": null,
   "metadata": {},
   "outputs": [],
   "source": []
  },
  {
   "cell_type": "code",
   "execution_count": null,
   "metadata": {},
   "outputs": [],
   "source": []
  }
 ],
 "metadata": {
  "kernelspec": {
   "display_name": "Python 2",
   "language": "python",
   "name": "python2"
  },
  "language_info": {
   "codemirror_mode": {
    "name": "ipython",
    "version": 2
   },
   "file_extension": ".py",
   "mimetype": "text/x-python",
   "name": "python",
   "nbconvert_exporter": "python",
   "pygments_lexer": "ipython2",
   "version": "2.7.14"
  }
 },
 "nbformat": 4,
 "nbformat_minor": 2
}
