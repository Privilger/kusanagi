{
 "cells": [
  {
   "cell_type": "code",
   "execution_count": 1,
   "metadata": {},
   "outputs": [
    {
     "name": "stderr",
     "output_type": "stream",
     "text": [
      "Using cuDNN version 7003 on context None\n",
      "Mapped name None to device cuda0: TITAN Xp (0000:01:00.0)\n"
     ]
    }
   ],
   "source": [
    " %matplotlib tk\n",
    "import gym\n",
    "import os\n",
    "import sys\n",
    "import numpy as np\n",
    "import theano\n",
    "import lasagne\n",
    "\n",
    "from kusanagi.ghost import control\n",
    "from kusanagi.ghost import regression\n",
    "from kusanagi.ghost.algorithms import pilco, mc_pilco\n",
    "from kusanagi.ghost.optimizers import ScipyOptimizer, SGDOptimizer\n",
    "from kusanagi.base import apply_controller, train_dynamics, ExperienceDataset\n",
    "from kusanagi import utils\n",
    "from functools import partial\n",
    "from matplotlib import pyplot as plt"
   ]
  },
  {
   "cell_type": "code",
   "execution_count": 5,
   "metadata": {
    "scrolled": true
   },
   "outputs": [
    {
     "name": "stdout",
     "output_type": "stream",
     "text": [
      "[2017-10-12 17:00:23.752730] NNPolicy > Building network\n",
      "('InputLayer', {'shape': (None, 11), 'name': 'NNPolicy_input'})\n",
      "('DenseLayer', {'W': <lasagne.init.Orthogonal object at 0x7fddf02c4f50>, 'b': <lasagne.init.Constant object at 0x7fde41f5cd10>, 'name': 'NNPolicy_fc0', 'nonlinearity': <function rectify at 0x7fde306c88c0>, 'num_units': 50})\n",
      "('DenseDropoutLayer', {'b': <lasagne.init.Constant object at 0x7fde41f5cd10>, 'name': 'NNPolicy_fc1', 'nonlinearity': <function rectify at 0x7fde306c88c0>, 'p': 0.05, 'num_units': 50, 'W': <lasagne.init.Orthogonal object at 0x7fddf02c4f50>})\n",
      "('DenseDropoutLayer', {'b': <lasagne.init.Constant object at 0x7fde41f5cd10>, 'name': 'NNPolicy_fc2', 'nonlinearity': <function rectify at 0x7fde306c88c0>, 'p': 0.05, 'num_units': 50, 'W': <lasagne.init.Orthogonal object at 0x7fddf02c4f50>})\n",
      "('DenseDropoutLayer', {'b': <lasagne.init.Constant object at 0x7fde41f5cd10>, 'name': 'NNPolicy_fc3', 'nonlinearity': <function rectify at 0x7fde306c88c0>, 'p': 0.05, 'num_units': 50, 'W': <lasagne.init.Orthogonal object at 0x7fddf02c4f50>})\n",
      "('DenseDropoutLayer', {'b': <lasagne.init.Constant object at 0x7fde41f5cd10>, 'name': 'NNPolicy_output', 'nonlinearity': <functools.partial object at 0x7fddf021a578>, 'p': 0.05, 'num_units': 3, 'W': <lasagne.init.Orthogonal object at 0x7fddf02c4f50>})\n",
      "[2017-10-12 17:00:23.770698] BNN > Building network\n",
      "('InputLayer', {'shape': (None, 14), 'name': 'BNN_input'})\n",
      "('DenseLogNormalDropoutLayer', {'b': <lasagne.init.Constant object at 0x7fde41f5cd10>, 'name': 'BNN_fc0', 'nonlinearity': <function rectify at 0x7fde306c88c0>, 'p': True, 'num_units': 200, 'W': <lasagne.init.Orthogonal object at 0x7fddf0411fd0>})\n",
      "('DenseLogNormalDropoutLayer', {'b': <lasagne.init.Constant object at 0x7fde41f5cd10>, 'name': 'BNN_fc1', 'nonlinearity': <function rectify at 0x7fde306c88c0>, 'p': True, 'num_units': 200, 'W': <lasagne.init.Orthogonal object at 0x7fddf0411fd0>})\n",
      "('DenseLogNormalDropoutLayer', {'b': <lasagne.init.Constant object at 0x7fde41f5cd10>, 'name': 'BNN_fc2', 'nonlinearity': <function rectify at 0x7fde306c88c0>, 'p': True, 'num_units': 200, 'W': <lasagne.init.Orthogonal object at 0x7fddf0411fd0>})\n",
      "('DenseLogNormalDropoutLayer', {'b': <lasagne.init.Constant object at 0x7fde41f5cd10>, 'name': 'BNN_fc3', 'nonlinearity': <function rectify at 0x7fde306c88c0>, 'p': True, 'num_units': 200, 'W': <lasagne.init.Orthogonal object at 0x7fddf0411fd0>})\n",
      "('DenseLogNormalDropoutLayer', {'b': <lasagne.init.Constant object at 0x7fde41f5cd10>, 'name': 'BNN_output', 'nonlinearity': <function linear at 0x7fde306c8cf8>, 'p': True, 'num_units': 22, 'W': <lasagne.init.Orthogonal object at 0x7fddf0411fd0>})\n",
      "[2017-10-12 17:00:23.910483] BNN > Building network\n",
      "('InputLayer', {'shape': (None, 14), 'name': 'BNN_input'})\n",
      "('DenseLogNormalDropoutLayer', {'b': <lasagne.init.Constant object at 0x7fde41f5cd10>, 'name': 'BNN_fc0', 'nonlinearity': <function rectify at 0x7fde306c88c0>, 'p': True, 'num_units': 200, 'W': <lasagne.init.Orthogonal object at 0x7fddf01d6690>})\n",
      "('DenseLogNormalDropoutLayer', {'b': <lasagne.init.Constant object at 0x7fde41f5cd10>, 'name': 'BNN_fc1', 'nonlinearity': <function rectify at 0x7fde306c88c0>, 'p': True, 'num_units': 200, 'W': <lasagne.init.Orthogonal object at 0x7fddf01d6690>})\n",
      "('DenseLogNormalDropoutLayer', {'b': <lasagne.init.Constant object at 0x7fde41f5cd10>, 'name': 'BNN_output', 'nonlinearity': <function linear at 0x7fde306c8cf8>, 'p': True, 'num_units': 2, 'W': <lasagne.init.Orthogonal object at 0x7fddf01d6690>})\n",
      "[2017-10-12 17:00:24.131429] Experience > Initialising new experience dataset\n"
     ]
    }
   ],
   "source": [
    "# init environment\n",
    "env = gym.make('Hopper-v1')\n",
    "x0 = env.reset()\n",
    "maxU = np.abs(np.stack([env.action_space.high, env.action_space.low])).max(0)\n",
    "\n",
    "# init policy\n",
    "pol = control.NNPolicy(x0, maxU=maxU)\n",
    "pol_spec = regression.dropout_mlp(\n",
    "    input_dims=pol.D,\n",
    "    output_dims=pol.E,\n",
    "    hidden_dims=[50]*4,\n",
    "    p=0.05, p_input=0.0,\n",
    "    nonlinearities=lasagne.nonlinearities.rectify,\n",
    "    W_init=lasagne.init.Orthogonal(gain='relu'),\n",
    "    output_nonlinearity=pol.sat_func,\n",
    "    dropout_class=regression.layers.DenseDropoutLayer,\n",
    "    name=pol.name)\n",
    "pol.network = pol.build_network(pol_spec)\n",
    "\n",
    "# init dynmodel\n",
    "dyn = regression.BNN(x0.size + maxU.size, x0.size)\n",
    "odims = 2*dyn.E if dyn.heteroscedastic else dyn.E\n",
    "dyn_spec = regression.dropout_mlp(\n",
    "    input_dims=dyn.D,\n",
    "    output_dims=odims,\n",
    "    hidden_dims=[200]*4,\n",
    "    p=True, p_input=True,\n",
    "    nonlinearities=lasagne.nonlinearities.rectify,\n",
    "    W_init=lasagne.init.Orthogonal(gain='relu'),\n",
    "    dropout_class=regression.layers.DenseLogNormalDropoutLayer,\n",
    "    name=dyn.name)\n",
    "dyn.network = dyn.build_network(dyn_spec)\n",
    "\n",
    "# init a regression model for learning the reward function\n",
    "rew = regression.BNN(x0.size + maxU.size, 1)\n",
    "odims = 2 if rew.heteroscedastic else 1\n",
    "rew_spec = regression.dropout_mlp(\n",
    "    input_dims=dyn.D,\n",
    "    output_dims=odims,\n",
    "    hidden_dims=[200]*2,\n",
    "    p=True, p_input=True,\n",
    "    nonlinearities=lasagne.nonlinearities.rectify,\n",
    "    W_init=lasagne.init.Orthogonal(gain='relu'),\n",
    "    dropout_class=regression.layers.DenseLogNormalDropoutLayer,\n",
    "    name=rew.name)\n",
    "rew.network = rew.build_network(rew_spec)\n",
    "\n",
    "# create experience dataset\n",
    "exp = ExperienceDataset()\n",
    "\n",
    "# init policy optimizer\n",
    "polopt = SGDOptimizer(min_method='adam', max_evals=1000)\n"
   ]
  },
  {
   "cell_type": "code",
   "execution_count": null,
   "metadata": {
    "collapsed": true
   },
   "outputs": [],
   "source": []
  }
 ],
 "metadata": {
  "kernelspec": {
   "display_name": "Python 2",
   "language": "python",
   "name": "python2"
  },
  "language_info": {
   "codemirror_mode": {
    "name": "ipython",
    "version": 2
   },
   "file_extension": ".py",
   "mimetype": "text/x-python",
   "name": "python",
   "nbconvert_exporter": "python",
   "pygments_lexer": "ipython2",
   "version": "2.7.13"
  }
 },
 "nbformat": 4,
 "nbformat_minor": 2
}
